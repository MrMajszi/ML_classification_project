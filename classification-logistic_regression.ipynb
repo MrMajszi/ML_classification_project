{
 "cells": [
  {
   "cell_type": "markdown",
   "id": "a7ab4066",
   "metadata": {},
   "source": [
    "LOADING DEPENDENCIES"
   ]
  },
  {
   "cell_type": "code",
   "execution_count": 59,
   "id": "f75f99dc",
   "metadata": {},
   "outputs": [],
   "source": [
    "import numpy as np\n",
    "import pandas as pd\n",
    "import seaborn as sns\n",
    "import plotly.express as px\n",
    "import plotly.graph_objects as go\n",
    "import matplotlib.pyplot as plt\n",
    "from sklearn.datasets import fetch_california_housing\n",
    "from sklearn.preprocessing import StandardScaler\n",
    "from sklearn.mixture import GaussianMixture\n",
    "from sklearn.model_selection import (\n",
    "    train_test_split,\n",
    "    cross_val_score, \n",
    "    GridSearchCV)\n",
    "from sklearn.neighbors import KNeighborsClassifier\n",
    "from sklearn.svm import SVC\n",
    "from sklearn.tree import DecisionTreeClassifier\n",
    "from sklearn.ensemble import RandomForestClassifier\n",
    "from sklearn.linear_model import (\n",
    "    LinearRegression,\n",
    "    LogisticRegression,\n",
    "    LogisticRegressionCV,\n",
    "    Lasso,\n",
    "    Ridge,\n",
    "    ElasticNet\n",
    ")\n",
    "from sklearn.metrics import (\n",
    "    mean_squared_error,\n",
    "    mean_absolute_error,\n",
    "    median_absolute_error,\n",
    "    mean_absolute_percentage_error,\n",
    "    r2_score,\n",
    "    make_scorer,\n",
    "    accuracy_score, \n",
    "    classification_report\n",
    ")\n",
    "from sklearn.dummy import DummyRegressor\n",
    "from sklearn.model_selection import (\n",
    "    KFold,\n",
    "    ShuffleSplit,\n",
    "    cross_val_score,\n",
    "    cross_validate,\n",
    "    RandomizedSearchCV,\n",
    "    GridSearchCV\n",
    ")\n",
    "from sklearn import metrics\n",
    "from sklearn.metrics import roc_curve, auc, precision_recall_curve, average_precision_score\n",
    "import statsmodels.api as sm\n",
    "import statsmodels.formula.api as smf\n",
    "from imblearn.over_sampling import SMOTE\n",
    "from collections import Counter\n",
    "from tqdm import tqdm\n",
    "import scipy.stats as sc\n",
    "from scipy.stats import uniform\n",
    "import warnings\n",
    "warnings.simplefilter(action='ignore', category=FutureWarning)"
   ]
  },
  {
   "cell_type": "markdown",
   "id": "b333f4bb",
   "metadata": {},
   "source": [
    "LOADING DATA"
   ]
  },
  {
   "cell_type": "code",
   "execution_count": 60,
   "id": "9b9570fa",
   "metadata": {},
   "outputs": [],
   "source": [
    "x_train_full=pd.read_csv(\"output/train_full.csv\")\n",
    "x_train=pd.read_csv(\"output/train.csv\")\n",
    "x_test=pd.read_csv(\"output/test.csv\")\n",
    "x_val=pd.read_csv(\"output/validation.csv\")\n",
    "\n",
    "\n",
    "y_train_full=pd.read_csv(\"output/target_train_full.csv\")\n",
    "y_train=pd.read_csv(\"output/target_train.csv\")\n",
    "y_test=pd.read_csv(\"output/target_test.csv\")\n",
    "y_val=pd.read_csv(\"output/target_validation.csv\")\n",
    "\n",
    "df_train=pd.read_csv(\"output/train_with_target.csv\")\n",
    "df_test=pd.read_csv(\"output/test_with_target.csv\")"
   ]
  },
  {
   "cell_type": "markdown",
   "id": "49aaa999",
   "metadata": {},
   "source": [
    "LOGISTIC REGRESSION- MODEL PREPARATION"
   ]
  },
  {
   "cell_type": "code",
   "execution_count": 64,
   "id": "f37b70ae",
   "metadata": {},
   "outputs": [],
   "source": [
    "#Skicit library\n",
    "scaler = StandardScaler(copy=True, with_mean=True, with_std=True)\n",
    "x_train_scaled= scaler.fit_transform(x_train)\n",
    "x_val_scaled=scaler.fit_transform(x_val)\n",
    "x_test_scaled = scaler.fit_transform(x_test)"
   ]
  },
  {
   "cell_type": "code",
   "execution_count": 65,
   "id": "f4ddde90",
   "metadata": {},
   "outputs": [
    {
     "name": "stdout",
     "output_type": "stream",
     "text": [
      "x_train shape:(83123, 22), y_train shape:(83123, 1)\n",
      "x_test shape:(25976, 22),y_test shape:(25976, 1)\n"
     ]
    }
   ],
   "source": [
    "print(f\"x_train shape:{x_train_scaled.shape}, y_train shape:{y_train.shape}\")\n",
    "print(f\"x_test shape:{x_test_scaled.shape},y_test shape:{y_test.shape}\")"
   ]
  },
  {
   "cell_type": "code",
   "execution_count": 66,
   "id": "6d3cb80d",
   "metadata": {},
   "outputs": [
    {
     "name": "stdout",
     "output_type": "stream",
     "text": [
      "[[-0.9844217   0.47082738 -1.49296867 ... -0.44763458  0.45036545\n",
      "   0.6983944 ]\n",
      " [ 1.01582482  0.47082738  0.66980642 ... -0.44763458  1.17194419\n",
      "   0.7646354 ]\n",
      " [-0.9844217   0.47082738  0.66980642 ... -0.44763458 -0.47619884\n",
      "  -0.03025683]\n",
      " ...\n",
      " [-0.9844217   0.47082738  0.66980642 ...  0.88156238  1.0003061\n",
      "   0.49967134]\n",
      " [ 1.01582482  0.47082738  0.66980642 ... -0.44763458  1.69868397\n",
      "   0.8308764 ]\n",
      " [-0.9844217   0.47082738  0.66980642 ... -0.44763458  1.69756047\n",
      "   1.2945635 ]]\n"
     ]
    }
   ],
   "source": [
    "lr = LogisticRegression(penalty=None)\n",
    "print(x_train_scaled)"
   ]
  },
  {
   "cell_type": "code",
   "execution_count": 67,
   "id": "740cea2b",
   "metadata": {},
   "outputs": [
    {
     "data": {
      "text/html": [
       "<style>#sk-container-id-5 {color: black;background-color: white;}#sk-container-id-5 pre{padding: 0;}#sk-container-id-5 div.sk-toggleable {background-color: white;}#sk-container-id-5 label.sk-toggleable__label {cursor: pointer;display: block;width: 100%;margin-bottom: 0;padding: 0.3em;box-sizing: border-box;text-align: center;}#sk-container-id-5 label.sk-toggleable__label-arrow:before {content: \"▸\";float: left;margin-right: 0.25em;color: #696969;}#sk-container-id-5 label.sk-toggleable__label-arrow:hover:before {color: black;}#sk-container-id-5 div.sk-estimator:hover label.sk-toggleable__label-arrow:before {color: black;}#sk-container-id-5 div.sk-toggleable__content {max-height: 0;max-width: 0;overflow: hidden;text-align: left;background-color: #f0f8ff;}#sk-container-id-5 div.sk-toggleable__content pre {margin: 0.2em;color: black;border-radius: 0.25em;background-color: #f0f8ff;}#sk-container-id-5 input.sk-toggleable__control:checked~div.sk-toggleable__content {max-height: 200px;max-width: 100%;overflow: auto;}#sk-container-id-5 input.sk-toggleable__control:checked~label.sk-toggleable__label-arrow:before {content: \"▾\";}#sk-container-id-5 div.sk-estimator input.sk-toggleable__control:checked~label.sk-toggleable__label {background-color: #d4ebff;}#sk-container-id-5 div.sk-label input.sk-toggleable__control:checked~label.sk-toggleable__label {background-color: #d4ebff;}#sk-container-id-5 input.sk-hidden--visually {border: 0;clip: rect(1px 1px 1px 1px);clip: rect(1px, 1px, 1px, 1px);height: 1px;margin: -1px;overflow: hidden;padding: 0;position: absolute;width: 1px;}#sk-container-id-5 div.sk-estimator {font-family: monospace;background-color: #f0f8ff;border: 1px dotted black;border-radius: 0.25em;box-sizing: border-box;margin-bottom: 0.5em;}#sk-container-id-5 div.sk-estimator:hover {background-color: #d4ebff;}#sk-container-id-5 div.sk-parallel-item::after {content: \"\";width: 100%;border-bottom: 1px solid gray;flex-grow: 1;}#sk-container-id-5 div.sk-label:hover label.sk-toggleable__label {background-color: #d4ebff;}#sk-container-id-5 div.sk-serial::before {content: \"\";position: absolute;border-left: 1px solid gray;box-sizing: border-box;top: 0;bottom: 0;left: 50%;z-index: 0;}#sk-container-id-5 div.sk-serial {display: flex;flex-direction: column;align-items: center;background-color: white;padding-right: 0.2em;padding-left: 0.2em;position: relative;}#sk-container-id-5 div.sk-item {position: relative;z-index: 1;}#sk-container-id-5 div.sk-parallel {display: flex;align-items: stretch;justify-content: center;background-color: white;position: relative;}#sk-container-id-5 div.sk-item::before, #sk-container-id-5 div.sk-parallel-item::before {content: \"\";position: absolute;border-left: 1px solid gray;box-sizing: border-box;top: 0;bottom: 0;left: 50%;z-index: -1;}#sk-container-id-5 div.sk-parallel-item {display: flex;flex-direction: column;z-index: 1;position: relative;background-color: white;}#sk-container-id-5 div.sk-parallel-item:first-child::after {align-self: flex-end;width: 50%;}#sk-container-id-5 div.sk-parallel-item:last-child::after {align-self: flex-start;width: 50%;}#sk-container-id-5 div.sk-parallel-item:only-child::after {width: 0;}#sk-container-id-5 div.sk-dashed-wrapped {border: 1px dashed gray;margin: 0 0.4em 0.5em 0.4em;box-sizing: border-box;padding-bottom: 0.4em;background-color: white;}#sk-container-id-5 div.sk-label label {font-family: monospace;font-weight: bold;display: inline-block;line-height: 1.2em;}#sk-container-id-5 div.sk-label-container {text-align: center;}#sk-container-id-5 div.sk-container {/* jupyter's `normalize.less` sets `[hidden] { display: none; }` but bootstrap.min.css set `[hidden] { display: none !important; }` so we also need the `!important` here to be able to override the default hidden behavior on the sphinx rendered scikit-learn.org. See: https://github.com/scikit-learn/scikit-learn/issues/21755 */display: inline-block !important;position: relative;}#sk-container-id-5 div.sk-text-repr-fallback {display: none;}</style><div id=\"sk-container-id-5\" class=\"sk-top-container\"><div class=\"sk-text-repr-fallback\"><pre>LogisticRegression(penalty=None)</pre><b>In a Jupyter environment, please rerun this cell to show the HTML representation or trust the notebook. <br />On GitHub, the HTML representation is unable to render, please try loading this page with nbviewer.org.</b></div><div class=\"sk-container\" hidden><div class=\"sk-item\"><div class=\"sk-estimator sk-toggleable\"><input class=\"sk-toggleable__control sk-hidden--visually\" id=\"sk-estimator-id-5\" type=\"checkbox\" checked><label for=\"sk-estimator-id-5\" class=\"sk-toggleable__label sk-toggleable__label-arrow\">LogisticRegression</label><div class=\"sk-toggleable__content\"><pre>LogisticRegression(penalty=None)</pre></div></div></div></div></div>"
      ],
      "text/plain": [
       "LogisticRegression(penalty=None)"
      ]
     },
     "execution_count": 67,
     "metadata": {},
     "output_type": "execute_result"
    }
   ],
   "source": [
    "lr.fit(x_train_scaled , y_train.to_numpy().ravel())"
   ]
  },
  {
   "cell_type": "code",
   "execution_count": 68,
   "id": "355827b6",
   "metadata": {},
   "outputs": [
    {
     "data": {
      "text/plain": [
       "0.8745834486243278"
      ]
     },
     "execution_count": 68,
     "metadata": {},
     "output_type": "execute_result"
    }
   ],
   "source": [
    "lr.score(x_train_scaled , y_train.to_numpy().ravel()) #score on train quite decent"
   ]
  },
  {
   "cell_type": "code",
   "execution_count": 69,
   "id": "cbf1d5a6",
   "metadata": {},
   "outputs": [
    {
     "data": {
      "text/plain": [
       "0.8736141053279951"
      ]
     },
     "execution_count": 69,
     "metadata": {},
     "output_type": "execute_result"
    }
   ],
   "source": [
    "lr.score(x_test_scaled , y_test.to_numpy().ravel()) #pretty similar output "
   ]
  },
  {
   "cell_type": "code",
   "execution_count": 70,
   "id": "93c5a313",
   "metadata": {},
   "outputs": [
    {
     "data": {
      "text/html": [
       "<div>\n",
       "<style scoped>\n",
       "    .dataframe tbody tr th:only-of-type {\n",
       "        vertical-align: middle;\n",
       "    }\n",
       "\n",
       "    .dataframe tbody tr th {\n",
       "        vertical-align: top;\n",
       "    }\n",
       "\n",
       "    .dataframe thead th {\n",
       "        text-align: right;\n",
       "    }\n",
       "</style>\n",
       "<table border=\"1\" class=\"dataframe\">\n",
       "  <thead>\n",
       "    <tr style=\"text-align: right;\">\n",
       "      <th></th>\n",
       "      <th>Y_test</th>\n",
       "      <th>Y_pred</th>\n",
       "    </tr>\n",
       "  </thead>\n",
       "  <tbody>\n",
       "    <tr>\n",
       "      <th>0</th>\n",
       "      <td>0</td>\n",
       "      <td>0</td>\n",
       "    </tr>\n",
       "    <tr>\n",
       "      <th>1</th>\n",
       "      <td>1</td>\n",
       "      <td>1</td>\n",
       "    </tr>\n",
       "    <tr>\n",
       "      <th>2</th>\n",
       "      <td>0</td>\n",
       "      <td>0</td>\n",
       "    </tr>\n",
       "    <tr>\n",
       "      <th>3</th>\n",
       "      <td>1</td>\n",
       "      <td>1</td>\n",
       "    </tr>\n",
       "    <tr>\n",
       "      <th>4</th>\n",
       "      <td>0</td>\n",
       "      <td>0</td>\n",
       "    </tr>\n",
       "    <tr>\n",
       "      <th>5</th>\n",
       "      <td>0</td>\n",
       "      <td>0</td>\n",
       "    </tr>\n",
       "    <tr>\n",
       "      <th>6</th>\n",
       "      <td>1</td>\n",
       "      <td>1</td>\n",
       "    </tr>\n",
       "    <tr>\n",
       "      <th>7</th>\n",
       "      <td>0</td>\n",
       "      <td>1</td>\n",
       "    </tr>\n",
       "    <tr>\n",
       "      <th>8</th>\n",
       "      <td>1</td>\n",
       "      <td>1</td>\n",
       "    </tr>\n",
       "    <tr>\n",
       "      <th>9</th>\n",
       "      <td>0</td>\n",
       "      <td>0</td>\n",
       "    </tr>\n",
       "    <tr>\n",
       "      <th>10</th>\n",
       "      <td>0</td>\n",
       "      <td>0</td>\n",
       "    </tr>\n",
       "    <tr>\n",
       "      <th>11</th>\n",
       "      <td>1</td>\n",
       "      <td>0</td>\n",
       "    </tr>\n",
       "    <tr>\n",
       "      <th>12</th>\n",
       "      <td>0</td>\n",
       "      <td>0</td>\n",
       "    </tr>\n",
       "    <tr>\n",
       "      <th>13</th>\n",
       "      <td>0</td>\n",
       "      <td>0</td>\n",
       "    </tr>\n",
       "    <tr>\n",
       "      <th>14</th>\n",
       "      <td>1</td>\n",
       "      <td>1</td>\n",
       "    </tr>\n",
       "    <tr>\n",
       "      <th>15</th>\n",
       "      <td>0</td>\n",
       "      <td>0</td>\n",
       "    </tr>\n",
       "    <tr>\n",
       "      <th>16</th>\n",
       "      <td>1</td>\n",
       "      <td>1</td>\n",
       "    </tr>\n",
       "    <tr>\n",
       "      <th>17</th>\n",
       "      <td>0</td>\n",
       "      <td>0</td>\n",
       "    </tr>\n",
       "    <tr>\n",
       "      <th>18</th>\n",
       "      <td>1</td>\n",
       "      <td>0</td>\n",
       "    </tr>\n",
       "    <tr>\n",
       "      <th>19</th>\n",
       "      <td>0</td>\n",
       "      <td>0</td>\n",
       "    </tr>\n",
       "  </tbody>\n",
       "</table>\n",
       "</div>"
      ],
      "text/plain": [
       "    Y_test  Y_pred\n",
       "0        0       0\n",
       "1        1       1\n",
       "2        0       0\n",
       "3        1       1\n",
       "4        0       0\n",
       "5        0       0\n",
       "6        1       1\n",
       "7        0       1\n",
       "8        1       1\n",
       "9        0       0\n",
       "10       0       0\n",
       "11       1       0\n",
       "12       0       0\n",
       "13       0       0\n",
       "14       1       1\n",
       "15       0       0\n",
       "16       1       1\n",
       "17       0       0\n",
       "18       1       0\n",
       "19       0       0"
      ]
     },
     "execution_count": 70,
     "metadata": {},
     "output_type": "execute_result"
    }
   ],
   "source": [
    "Y_pred = lr.predict(x_test_scaled)\n",
    "data = pd.DataFrame({\"Y_test\" : y_test.Satisfaction , \"Y_pred\": Y_pred})\n",
    "data.head(20) #still we can see even in this batch some FP and FN"
   ]
  },
  {
   "cell_type": "code",
   "execution_count": 71,
   "id": "64e02af3",
   "metadata": {},
   "outputs": [
    {
     "name": "stdout",
     "output_type": "stream",
     "text": [
      "Optimization terminated successfully.\n",
      "         Current function value: 0.345942\n",
      "         Iterations 7\n",
      "                           Logit Regression Results                           \n",
      "==============================================================================\n",
      "Dep. Variable:           Satisfaction   No. Observations:                83123\n",
      "Model:                          Logit   Df Residuals:                    83101\n",
      "Method:                           MLE   Df Model:                           21\n",
      "Date:                Mon, 20 Jan 2025   Pseudo R-squ.:                  0.4945\n",
      "Time:                        14:50:07   Log-Likelihood:                -28756.\n",
      "converged:                       True   LL-Null:                       -56883.\n",
      "Covariance Type:            nonrobust   LLR p-value:                     0.000\n",
      "==============================================================================\n",
      "                 coef    std err          z      P>|z|      [0.025      0.975]\n",
      "------------------------------------------------------------------------------\n",
      "x1             0.0529      0.011      4.967      0.000       0.032       0.074\n",
      "x2             0.8109      0.012     66.180      0.000       0.787       0.835\n",
      "x3             1.2516      0.015     82.407      0.000       1.222       1.281\n",
      "x4             0.3216      0.013     24.574      0.000       0.296       0.347\n",
      "x5            -0.1788      0.013    -13.532      0.000      -0.205      -0.153\n",
      "x6            -0.3151      0.017    -18.057      0.000      -0.349      -0.281\n",
      "x7             0.4141      0.012     35.037      0.000       0.391       0.437\n",
      "x8             0.8667      0.015     56.297      0.000       0.837       0.897\n",
      "x9             0.0941      0.012      7.577      0.000       0.070       0.118\n",
      "x10            0.3900      0.014     27.905      0.000       0.363       0.417\n",
      "x11            0.0950      0.016      5.903      0.000       0.063       0.127\n",
      "x12            0.3689      0.012     30.995      0.000       0.346       0.392\n",
      "x13            0.3091      0.018     17.169      0.000       0.274       0.344\n",
      "x14           -0.0701      0.016     -4.347      0.000      -0.102      -0.039\n",
      "x15            0.1645      0.015     10.757      0.000       0.135       0.194\n",
      "x16            0.4753      0.017     27.645      0.000       0.442       0.509\n",
      "x17            0.0976      0.021      4.707      0.000       0.057       0.138\n",
      "x18            0.1793      0.015     12.361      0.000       0.151       0.208\n",
      "x19           -0.3115      0.033     -9.337      0.000      -0.377      -0.246\n",
      "x20            0.1056      0.033      3.168      0.002       0.040       0.171\n",
      "x21           -0.0092      0.012     -0.776      0.438      -0.032       0.014\n",
      "x22           -0.1190      0.011    -10.473      0.000      -0.141      -0.097\n",
      "==============================================================================\n"
     ]
    }
   ],
   "source": [
    "#Statsmodel library\n",
    "log_reg = sm.Logit(y_train.Satisfaction, x_train_scaled).fit() \n",
    "\n",
    "# Print the model summary\n",
    "print(log_reg.summary()) #Flight distance (x21) as statistically insignificant"
   ]
  },
  {
   "cell_type": "code",
   "execution_count": 72,
   "id": "0fad6f0b",
   "metadata": {},
   "outputs": [
    {
     "name": "stdout",
     "output_type": "stream",
     "text": [
      "              precision    recall  f1-score   support\n",
      "\n",
      "           0       0.87      0.91      0.89     14662\n",
      "           1       0.87      0.83      0.85     11314\n",
      "\n",
      "    accuracy                           0.87     25976\n",
      "   macro avg       0.87      0.87      0.87     25976\n",
      "weighted avg       0.87      0.87      0.87     25976\n",
      "\n"
     ]
    }
   ],
   "source": [
    "print(classification_report(y_test,Y_pred)) #classification report"
   ]
  },
  {
   "cell_type": "code",
   "execution_count": 74,
   "id": "c16786e2",
   "metadata": {},
   "outputs": [],
   "source": [
    "#Type I and II errors matrix\n",
    "from sklearn.metrics import confusion_matrix\n",
    "import seaborn as sns\n",
    "\n",
    "def plot_confusion_matrix(y_true, y_pred, title):\n",
    "    cm = confusion_matrix(y_true, y_pred)\n",
    "    plt.figure(figsize=(8, 6))\n",
    "    sns.heatmap(cm, annot=True, fmt='d', cmap='Blues')\n",
    "    plt.title(title)\n",
    "    plt.ylabel('True Label')\n",
    "    plt.xlabel('Predicted Label')\n",
    "    plt.show()"
   ]
  },
  {
   "cell_type": "code",
   "execution_count": 75,
   "id": "a2b47d7a",
   "metadata": {},
   "outputs": [
    {
     "data": {
      "image/png": "[encoded data removed]",
      "text/plain": [
       "<Figure size 800x600 with 2 Axes>"
      ]
     },
     "metadata": {},
     "output_type": "display_data"
    }
   ],
   "source": [
    "y_pred = lr.predict(x_test_scaled)\n",
    "plot_confusion_matrix(y_test, y_pred, f'Confusion Matrix - Logistic Regression') #number of FN> number of FP: regarding satisfaction level we want more to avoid FP"
   ]
  },
  {
   "cell_type": "code",
   "execution_count": 76,
   "id": "7a16556f",
   "metadata": {},
   "outputs": [
    {
     "data": {
      "text/plain": [
       "satisfaction                              1.000000\n",
       "online_boarding                           0.550152\n",
       "class                                     0.492967\n",
       "type_of_travel                            0.449314\n",
       "in_flight_entertainment                   0.400665\n",
       "seat_comfort                              0.363986\n",
       "on_board_service                          0.328122\n",
       "leg_room_service                          0.317202\n",
       "cleanliness                               0.306456\n",
       "in_flight_wifi_service                    0.286471\n",
       "baggage_handling                          0.271190\n",
       "in_flight_service                         0.265880\n",
       "flight_distance_log                       0.255021\n",
       "check_in_service                          0.236024\n",
       "food_and_drink                            0.209802\n",
       "customer_type                             0.189022\n",
       "ease_of_online_booking                    0.173773\n",
       "age_zscore                                0.145128\n",
       "arrival_delay_cut                         0.100194\n",
       "departure_delay_cut                       0.068896\n",
       "departure_and_arrival_time_convenience    0.050276\n",
       "gender                                    0.012514\n",
       "gate_location                             0.001643\n",
       "Name: satisfaction, dtype: float64"
      ]
     },
     "execution_count": 76,
     "metadata": {},
     "output_type": "execute_result"
    }
   ],
   "source": [
    "#Feature selection for model based on correlation\n",
    "feature_selection_with_corr = (df_train.corr(method=\"spearman\")[\"satisfaction\"]\n",
    "  .apply(np.abs)\n",
    "  .sort_values(ascending=False)\n",
    " )\n",
    "\n",
    "feature_selection_with_corr"
   ]
  },
  {
   "cell_type": "code",
   "execution_count": 77,
   "id": "c1e9a655",
   "metadata": {},
   "outputs": [
    {
     "data": {
      "text/plain": [
       "Text(0.5, 1.0, 'Feature selection based on correlation')"
      ]
     },
     "execution_count": 77,
     "metadata": {},
     "output_type": "execute_result"
    },
    {
     "data": {
      "image/png": "[encoded data removed]",
      "text/plain": [
       "<Figure size 800x1000 with 1 Axes>"
      ]
     },
     "metadata": {},
     "output_type": "display_data"
    }
   ],
   "source": [
    "coef = pd.Series(feature_selection_with_corr)\n",
    "imp_coef = pd.concat([coef.sort_values().head(10), coef.sort_values().tail(10)])\n",
    "\n",
    "plt.rcParams[\"figure.figsize\"] = (8.0, 10.0)\n",
    "imp_coef.plot(kind=\"barh\")\n",
    "plt.title(\"Feature selection based on correlation\")"
   ]
  },
  {
   "cell_type": "code",
   "execution_count": 78,
   "id": "070cfc4c",
   "metadata": {},
   "outputs": [],
   "source": [
    "#Wrapper for Modelling and scoring\n",
    "def logit_model_wrapper(\n",
    "    X_train: pd.DataFrame,\n",
    "    y_train: pd.DataFrame,\n",
    "    X_test: pd.DataFrame,\n",
    "    fit_intercept: bool=True,\n",
    ") -> np.array :\n",
    "    reg = LogisticRegression(fit_intercept=fit_intercept)\n",
    "    reg.fit(X=X_train, y=y_train)\n",
    "    pred = reg.predict(X_test)\n",
    "    return pred.ravel()  \n",
    "\n",
    "\n",
    "def scoring_wrapper(y_true: np.array, y_pred: np.array) -> dict:\n",
    "    accuracy = metrics.accuracy_score(y_true, y_pred)\n",
    "    precision = metrics.precision_score(y_true, y_pred)\n",
    "    recall = metrics.recall_score(y_true, y_pred)\n",
    "    fbeta_precision = metrics.fbeta_score(y_true, y_pred, beta=0.25) #more emphasis on precision\n",
    "    fbeta_recall = metrics.fbeta_score(y_true, y_pred, beta=0.75) #more emphasis on recall\n",
    "    return {\"accuracy\": accuracy, \"precision\": precision, \"recall\": recall, \"fbeta_precision\": fbeta_precision, \"fbeta_recall\": fbeta_recall}"
   ]
  },
  {
   "cell_type": "code",
   "execution_count": 79,
   "id": "e04e0fed",
   "metadata": {},
   "outputs": [
    {
     "name": "stderr",
     "output_type": "stream",
     "text": [
      "  0%|                                                                                           | 0/22 [00:00<?, ?it/s]C:\\Users\\mbuda\\anaconda3\\lib\\site-packages\\sklearn\\utils\\validation.py:1143: DataConversionWarning: A column-vector y was passed when a 1d array was expected. Please change the shape of y to (n_samples, ), for example using ravel().\n",
      "  y = column_or_1d(y, warn=True)\n",
      "  5%|███▊                                                                               | 1/22 [00:00<00:05,  4.04it/s]C:\\Users\\mbuda\\anaconda3\\lib\\site-packages\\sklearn\\utils\\validation.py:1143: DataConversionWarning: A column-vector y was passed when a 1d array was expected. Please change the shape of y to (n_samples, ), for example using ravel().\n",
      "  y = column_or_1d(y, warn=True)\n",
      "  9%|███████▌                                                                           | 2/22 [00:00<00:05,  3.74it/s]C:\\Users\\mbuda\\anaconda3\\lib\\site-packages\\sklearn\\utils\\validation.py:1143: DataConversionWarning: A column-vector y was passed when a 1d array was expected. Please change the shape of y to (n_samples, ), for example using ravel().\n",
      "  y = column_or_1d(y, warn=True)\n",
      " 14%|███████████▎                                                                       | 3/22 [00:00<00:05,  3.49it/s]C:\\Users\\mbuda\\anaconda3\\lib\\site-packages\\sklearn\\utils\\validation.py:1143: DataConversionWarning: A column-vector y was passed when a 1d array was expected. Please change the shape of y to (n_samples, ), for example using ravel().\n",
      "  y = column_or_1d(y, warn=True)\n",
      " 18%|███████████████                                                                    | 4/22 [00:01<00:05,  3.25it/s]C:\\Users\\mbuda\\anaconda3\\lib\\site-packages\\sklearn\\utils\\validation.py:1143: DataConversionWarning: A column-vector y was passed when a 1d array was expected. Please change the shape of y to (n_samples, ), for example using ravel().\n",
      "  y = column_or_1d(y, warn=True)\n",
      " 23%|██████████████████▊                                                                | 5/22 [00:01<00:05,  3.03it/s]C:\\Users\\mbuda\\anaconda3\\lib\\site-packages\\sklearn\\utils\\validation.py:1143: DataConversionWarning: A column-vector y was passed when a 1d array was expected. Please change the shape of y to (n_samples, ), for example using ravel().\n",
      "  y = column_or_1d(y, warn=True)\n",
      " 27%|██████████████████████▋                                                            | 6/22 [00:01<00:05,  3.04it/s]C:\\Users\\mbuda\\anaconda3\\lib\\site-packages\\sklearn\\utils\\validation.py:1143: DataConversionWarning: A column-vector y was passed when a 1d array was expected. Please change the shape of y to (n_samples, ), for example using ravel().\n",
      "  y = column_or_1d(y, warn=True)\n",
      " 32%|██████████████████████████▍                                                        | 7/22 [00:02<00:05,  2.97it/s]C:\\Users\\mbuda\\anaconda3\\lib\\site-packages\\sklearn\\utils\\validation.py:1143: DataConversionWarning: A column-vector y was passed when a 1d array was expected. Please change the shape of y to (n_samples, ), for example using ravel().\n",
      "  y = column_or_1d(y, warn=True)\n",
      " 36%|██████████████████████████████▏                                                    | 8/22 [00:02<00:05,  2.40it/s]C:\\Users\\mbuda\\anaconda3\\lib\\site-packages\\sklearn\\utils\\validation.py:1143: DataConversionWarning: A column-vector y was passed when a 1d array was expected. Please change the shape of y to (n_samples, ), for example using ravel().\n",
      "  y = column_or_1d(y, warn=True)\n",
      " 41%|█████████████████████████████████▉                                                 | 9/22 [00:03<00:06,  2.15it/s]C:\\Users\\mbuda\\anaconda3\\lib\\site-packages\\sklearn\\utils\\validation.py:1143: DataConversionWarning: A column-vector y was passed when a 1d array was expected. Please change the shape of y to (n_samples, ), for example using ravel().\n",
      "  y = column_or_1d(y, warn=True)\n",
      " 45%|█████████████████████████████████████▎                                            | 10/22 [00:04<00:06,  1.78it/s]C:\\Users\\mbuda\\anaconda3\\lib\\site-packages\\sklearn\\utils\\validation.py:1143: DataConversionWarning: A column-vector y was passed when a 1d array was expected. Please change the shape of y to (n_samples, ), for example using ravel().\n",
      "  y = column_or_1d(y, warn=True)\n",
      " 50%|█████████████████████████████████████████                                         | 11/22 [00:04<00:05,  1.85it/s]C:\\Users\\mbuda\\anaconda3\\lib\\site-packages\\sklearn\\utils\\validation.py:1143: DataConversionWarning: A column-vector y was passed when a 1d array was expected. Please change the shape of y to (n_samples, ), for example using ravel().\n",
      "  y = column_or_1d(y, warn=True)\n",
      " 55%|████████████████████████████████████████████▋                                     | 12/22 [00:05<00:06,  1.60it/s]C:\\Users\\mbuda\\anaconda3\\lib\\site-packages\\sklearn\\utils\\validation.py:1143: DataConversionWarning: A column-vector y was passed when a 1d array was expected. Please change the shape of y to (n_samples, ), for example using ravel().\n",
      "  y = column_or_1d(y, warn=True)\n",
      " 59%|████████████████████████████████████████████████▍                                 | 13/22 [00:06<00:06,  1.42it/s]C:\\Users\\mbuda\\anaconda3\\lib\\site-packages\\sklearn\\utils\\validation.py:1143: DataConversionWarning: A column-vector y was passed when a 1d array was expected. Please change the shape of y to (n_samples, ), for example using ravel().\n",
      "  y = column_or_1d(y, warn=True)\n",
      " 64%|████████████████████████████████████████████████████▏                             | 14/22 [00:07<00:06,  1.21it/s]C:\\Users\\mbuda\\anaconda3\\lib\\site-packages\\sklearn\\utils\\validation.py:1143: DataConversionWarning: A column-vector y was passed when a 1d array was expected. Please change the shape of y to (n_samples, ), for example using ravel().\n",
      "  y = column_or_1d(y, warn=True)\n",
      " 68%|███████████████████████████████████████████████████████▉                          | 15/22 [00:08<00:06,  1.04it/s]C:\\Users\\mbuda\\anaconda3\\lib\\site-packages\\sklearn\\utils\\validation.py:1143: DataConversionWarning: A column-vector y was passed when a 1d array was expected. Please change the shape of y to (n_samples, ), for example using ravel().\n",
      "  y = column_or_1d(y, warn=True)\n",
      " 73%|███████████████████████████████████████████████████████████▋                      | 16/22 [00:09<00:06,  1.05s/it]C:\\Users\\mbuda\\anaconda3\\lib\\site-packages\\sklearn\\utils\\validation.py:1143: DataConversionWarning: A column-vector y was passed when a 1d array was expected. Please change the shape of y to (n_samples, ), for example using ravel().\n",
      "  y = column_or_1d(y, warn=True)\n",
      " 77%|███████████████████████████████████████████████████████████████▎                  | 17/22 [00:11<00:05,  1.04s/it]C:\\Users\\mbuda\\anaconda3\\lib\\site-packages\\sklearn\\utils\\validation.py:1143: DataConversionWarning: A column-vector y was passed when a 1d array was expected. Please change the shape of y to (n_samples, ), for example using ravel().\n",
      "  y = column_or_1d(y, warn=True)\n",
      "C:\\Users\\mbuda\\anaconda3\\lib\\site-packages\\sklearn\\linear_model\\_logistic.py:458: ConvergenceWarning: lbfgs failed to converge (status=1):\n",
      "STOP: TOTAL NO. of ITERATIONS REACHED LIMIT.\n",
      "\n",
      "Increase the number of iterations (max_iter) or scale the data as shown in:\n",
      "    https://scikit-learn.org/stable/modules/preprocessing.html\n",
      "Please also refer to the documentation for alternative solver options:\n",
      "    https://scikit-learn.org/stable/modules/linear_model.html#logistic-regression\n",
      "  n_iter_i = _check_optimize_result(\n",
      " 82%|███████████████████████████████████████████████████████████████████               | 18/22 [00:12<00:04,  1.12s/it]C:\\Users\\mbuda\\anaconda3\\lib\\site-packages\\sklearn\\utils\\validation.py:1143: DataConversionWarning: A column-vector y was passed when a 1d array was expected. Please change the shape of y to (n_samples, ), for example using ravel().\n",
      "  y = column_or_1d(y, warn=True)\n",
      "C:\\Users\\mbuda\\anaconda3\\lib\\site-packages\\sklearn\\linear_model\\_logistic.py:458: ConvergenceWarning: lbfgs failed to converge (status=1):\n",
      "STOP: TOTAL NO. of ITERATIONS REACHED LIMIT.\n",
      "\n",
      "Increase the number of iterations (max_iter) or scale the data as shown in:\n",
      "    https://scikit-learn.org/stable/modules/preprocessing.html\n",
      "Please also refer to the documentation for alternative solver options:\n",
      "    https://scikit-learn.org/stable/modules/linear_model.html#logistic-regression\n",
      "  n_iter_i = _check_optimize_result(\n"
     ]
    },
    {
     "name": "stderr",
     "output_type": "stream",
     "text": [
      " 86%|██████████████████████████████████████████████████████████████████████▊           | 19/22 [00:13<00:03,  1.19s/it]C:\\Users\\mbuda\\anaconda3\\lib\\site-packages\\sklearn\\utils\\validation.py:1143: DataConversionWarning: A column-vector y was passed when a 1d array was expected. Please change the shape of y to (n_samples, ), for example using ravel().\n",
      "  y = column_or_1d(y, warn=True)\n",
      "C:\\Users\\mbuda\\anaconda3\\lib\\site-packages\\sklearn\\linear_model\\_logistic.py:458: ConvergenceWarning: lbfgs failed to converge (status=1):\n",
      "STOP: TOTAL NO. of ITERATIONS REACHED LIMIT.\n",
      "\n",
      "Increase the number of iterations (max_iter) or scale the data as shown in:\n",
      "    https://scikit-learn.org/stable/modules/preprocessing.html\n",
      "Please also refer to the documentation for alternative solver options:\n",
      "    https://scikit-learn.org/stable/modules/linear_model.html#logistic-regression\n",
      "  n_iter_i = _check_optimize_result(\n",
      " 91%|██████████████████████████████████████████████████████████████████████████▌       | 20/22 [00:15<00:02,  1.24s/it]C:\\Users\\mbuda\\anaconda3\\lib\\site-packages\\sklearn\\utils\\validation.py:1143: DataConversionWarning: A column-vector y was passed when a 1d array was expected. Please change the shape of y to (n_samples, ), for example using ravel().\n",
      "  y = column_or_1d(y, warn=True)\n",
      "C:\\Users\\mbuda\\anaconda3\\lib\\site-packages\\sklearn\\linear_model\\_logistic.py:458: ConvergenceWarning: lbfgs failed to converge (status=1):\n",
      "STOP: TOTAL NO. of ITERATIONS REACHED LIMIT.\n",
      "\n",
      "Increase the number of iterations (max_iter) or scale the data as shown in:\n",
      "    https://scikit-learn.org/stable/modules/preprocessing.html\n",
      "Please also refer to the documentation for alternative solver options:\n",
      "    https://scikit-learn.org/stable/modules/linear_model.html#logistic-regression\n",
      "  n_iter_i = _check_optimize_result(\n",
      " 95%|██████████████████████████████████████████████████████████████████████████████▎   | 21/22 [00:16<00:01,  1.28s/it]C:\\Users\\mbuda\\anaconda3\\lib\\site-packages\\sklearn\\utils\\validation.py:1143: DataConversionWarning: A column-vector y was passed when a 1d array was expected. Please change the shape of y to (n_samples, ), for example using ravel().\n",
      "  y = column_or_1d(y, warn=True)\n",
      "C:\\Users\\mbuda\\anaconda3\\lib\\site-packages\\sklearn\\linear_model\\_logistic.py:458: ConvergenceWarning: lbfgs failed to converge (status=1):\n",
      "STOP: TOTAL NO. of ITERATIONS REACHED LIMIT.\n",
      "\n",
      "Increase the number of iterations (max_iter) or scale the data as shown in:\n",
      "    https://scikit-learn.org/stable/modules/preprocessing.html\n",
      "Please also refer to the documentation for alternative solver options:\n",
      "    https://scikit-learn.org/stable/modules/linear_model.html#logistic-regression\n",
      "  n_iter_i = _check_optimize_result(\n",
      "100%|██████████████████████████████████████████████████████████████████████████████████| 22/22 [00:17<00:00,  1.24it/s]\n"
     ]
    }
   ],
   "source": [
    "#Let's create some models (from containing least variables to all variables ~econometric GETS)\n",
    "scores_on_train = dict()\n",
    "\n",
    "for i in tqdm(range(1, 23)):\n",
    "    feautres_i = feature_selection_with_corr.index[1 : 1 + i]\n",
    "    pred = logit_model_wrapper(\n",
    "        df_train[feautres_i], df_train[[\"satisfaction\"]], df_train[feautres_i]\n",
    "    )\n",
    "    score = scoring_wrapper(df_train[[\"satisfaction\"]].to_numpy().ravel(), pred)\n",
    "    scores_on_train.update({f\"top_{i}\": score})"
   ]
  },
  {
   "cell_type": "code",
   "execution_count": 80,
   "id": "c5e0ba69",
   "metadata": {},
   "outputs": [
    {
     "data": {
      "text/plain": [
       "{'top_1': {'accuracy': 0.787091931013243,\n",
       "  'precision': 0.7227130070905498,\n",
       "  'recall': 0.8269051735603139,\n",
       "  'fbeta_precision': 0.7281096943520221,\n",
       "  'fbeta_recall': 0.7570536579663839},\n",
       " 'top_2': {'accuracy': 0.7888820449645827,\n",
       "  'precision': 0.7358555845001629,\n",
       "  'recall': 0.80145852728643,\n",
       "  'fbeta_precision': 0.7394158476584586,\n",
       "  'fbeta_recall': 0.7581978557325018},\n",
       " 'top_3': {'accuracy': 0.8126443640283338,\n",
       "  'precision': 0.7630623422979875,\n",
       "  'recall': 0.8245112381965687,\n",
       "  'fbeta_precision': 0.76642232257783,\n",
       "  'fbeta_recall': 0.7840997050535506},\n",
       " 'top_4': {'accuracy': 0.8350977825685247,\n",
       "  'precision': 0.8114009704847972,\n",
       "  'recall': 0.8080196834685464,\n",
       "  'fbeta_precision': 0.8112012880761327,\n",
       "  'fbeta_recall': 0.8101804520101489},\n",
       " 'top_5': {'accuracy': 0.8351074068370804,\n",
       "  'precision': 0.8113913062832468,\n",
       "  'recall': 0.808064015604912,\n",
       "  'fbeta_precision': 0.8111948249818711,\n",
       "  'fbeta_recall': 0.8101903297211281},\n",
       " 'top_6': {'accuracy': 0.8416230366492147,\n",
       "  'precision': 0.8204015920576003,\n",
       "  'recall': 0.8132730416278761,\n",
       "  'fbeta_precision': 0.8199788080445295,\n",
       "  'fbeta_recall': 0.8178209629646801},\n",
       " 'top_7': {'accuracy': 0.8531914074530336,\n",
       "  'precision': 0.8471608612751709,\n",
       "  'recall': 0.8075763621048898,\n",
       "  'fbeta_precision': 0.8447252492464642,\n",
       "  'fbeta_recall': 0.8324711503835953},\n",
       " 'top_8': {'accuracy': 0.8530662919618109,\n",
       "  'precision': 0.8445024123363882,\n",
       "  'recall': 0.8109012723323137,\n",
       "  'fbeta_precision': 0.84244897848603,\n",
       "  'fbeta_recall': 0.8320899256684833},\n",
       " 'top_9': {'accuracy': 0.8545484293193717,\n",
       "  'precision': 0.8433315785859788,\n",
       "  'recall': 0.8167309482643968,\n",
       "  'fbeta_precision': 0.8417189620651195,\n",
       "  'fbeta_recall': 0.8335580527055911},\n",
       " 'top_10': {'accuracy': 0.8553953649522636,\n",
       "  'precision': 0.8450335986056006,\n",
       "  'recall': 0.8167309482643968,\n",
       "  'fbeta_precision': 0.8433145475939802,\n",
       "  'fbeta_recall': 0.8346214552485606},\n",
       " 'top_11': {'accuracy': 0.8547409146904835,\n",
       "  'precision': 0.8437650291995877,\n",
       "  'recall': 0.8166644500598483,\n",
       "  'fbeta_precision': 0.8421211852306004,\n",
       "  'fbeta_recall': 0.8338040638527843},\n",
       " 'top_12': {'accuracy': 0.8547216661533723,\n",
       "  'precision': 0.8441993257963171,\n",
       "  'recall': 0.8159994680143636,\n",
       "  'fbeta_precision': 0.8424866657871426,\n",
       "  'fbeta_recall': 0.833825599915922},\n",
       " 'top_13': {'accuracy': 0.8569544964582692,\n",
       "  'precision': 0.8463035464889987,\n",
       "  'recall': 0.8193465443099703,\n",
       "  'fbeta_precision': 0.8446688334906027,\n",
       "  'fbeta_recall': 0.8363970754612811},\n",
       " 'top_14': {'accuracy': 0.8571373575608254,\n",
       "  'precision': 0.8465448550625085,\n",
       "  'recall': 0.8195238728554329,\n",
       "  'fbeta_precision': 0.844906156489196,\n",
       "  'fbeta_recall': 0.8366144404920303},\n",
       " 'top_15': {'accuracy': 0.8712850323375424,\n",
       "  'precision': 0.8651633686148182,\n",
       "  'recall': 0.8334441636742475,\n",
       "  'fbeta_precision': 0.8632308494288793,\n",
       "  'fbeta_recall': 0.8534700822418297},\n",
       " 'top_16': {'accuracy': 0.8723629504157684,\n",
       "  'precision': 0.8669078007648712,\n",
       "  'recall': 0.8340869796515494,\n",
       "  'fbeta_precision': 0.8649058287475831,\n",
       "  'fbeta_recall': 0.854798904519855},\n",
       " 'top_17': {'accuracy': 0.8722474591931013,\n",
       "  'precision': 0.8669893960350392,\n",
       "  'recall': 0.8336658243560757,\n",
       "  'fbeta_precision': 0.8649556138172118,\n",
       "  'fbeta_recall': 0.8546903662010751},\n",
       " 'top_18': {'accuracy': 0.8638839698182939,\n",
       "  'precision': 0.8537198200050252,\n",
       "  'recall': 0.8284567983331117,\n",
       "  'fbeta_precision': 0.8521911858987256,\n",
       "  'fbeta_recall': 0.844449565743929},\n",
       " 'top_19': {'accuracy': 0.8463870495842316,\n",
       "  'precision': 0.8221397157948241,\n",
       "  'recall': 0.8245999024693,\n",
       "  'fbeta_precision': 0.8222840262229261,\n",
       "  'fbeta_recall': 0.8230236900558403},\n",
       " 'top_20': {'accuracy': 0.8493994456421312,\n",
       "  'precision': 0.8251600088280733,\n",
       "  'recall': 0.8287449572194884,\n",
       "  'fbeta_precision': 0.8253700293738004,\n",
       "  'fbeta_recall': 0.8264470117225148},\n",
       " 'top_21': {'accuracy': 0.8479558053587928,\n",
       "  'precision': 0.8249246320269551,\n",
       "  'recall': 0.8248880613556767,\n",
       "  'fbeta_precision': 0.8249224807212358,\n",
       "  'fbeta_recall': 0.8249114662117468},\n",
       " 'top_22': {'accuracy': 0.8489952263627965,\n",
       "  'precision': 0.825573161016199,\n",
       "  'recall': 0.8269273396284967,\n",
       "  'fbeta_precision': 0.82565269579572,\n",
       "  'fbeta_recall': 0.8260601540786194}}"
      ]
     },
     "execution_count": 80,
     "metadata": {},
     "output_type": "execute_result"
    }
   ],
   "source": [
    "scores_on_train"
   ]
  },
  {
   "cell_type": "code",
   "execution_count": 81,
   "id": "0fec88a8",
   "metadata": {},
   "outputs": [
    {
     "data": {
      "text/html": [
       "<div>\n",
       "<style scoped>\n",
       "    .dataframe tbody tr th:only-of-type {\n",
       "        vertical-align: middle;\n",
       "    }\n",
       "\n",
       "    .dataframe tbody tr th {\n",
       "        vertical-align: top;\n",
       "    }\n",
       "\n",
       "    .dataframe thead th {\n",
       "        text-align: right;\n",
       "    }\n",
       "</style>\n",
       "<table border=\"1\" class=\"dataframe\">\n",
       "  <thead>\n",
       "    <tr style=\"text-align: right;\">\n",
       "      <th></th>\n",
       "      <th>accuracy</th>\n",
       "      <th>precision</th>\n",
       "      <th>recall</th>\n",
       "      <th>fbeta_precision</th>\n",
       "      <th>fbeta_recall</th>\n",
       "    </tr>\n",
       "  </thead>\n",
       "  <tbody>\n",
       "    <tr>\n",
       "      <th>top_1</th>\n",
       "      <td>0.787092</td>\n",
       "      <td>0.722713</td>\n",
       "      <td>0.826905</td>\n",
       "      <td>0.728110</td>\n",
       "      <td>0.757054</td>\n",
       "    </tr>\n",
       "    <tr>\n",
       "      <th>top_2</th>\n",
       "      <td>0.788882</td>\n",
       "      <td>0.735856</td>\n",
       "      <td>0.801459</td>\n",
       "      <td>0.739416</td>\n",
       "      <td>0.758198</td>\n",
       "    </tr>\n",
       "    <tr>\n",
       "      <th>top_3</th>\n",
       "      <td>0.812644</td>\n",
       "      <td>0.763062</td>\n",
       "      <td>0.824511</td>\n",
       "      <td>0.766422</td>\n",
       "      <td>0.784100</td>\n",
       "    </tr>\n",
       "    <tr>\n",
       "      <th>top_5</th>\n",
       "      <td>0.835107</td>\n",
       "      <td>0.811391</td>\n",
       "      <td>0.808064</td>\n",
       "      <td>0.811195</td>\n",
       "      <td>0.810190</td>\n",
       "    </tr>\n",
       "    <tr>\n",
       "      <th>top_4</th>\n",
       "      <td>0.835098</td>\n",
       "      <td>0.811401</td>\n",
       "      <td>0.808020</td>\n",
       "      <td>0.811201</td>\n",
       "      <td>0.810180</td>\n",
       "    </tr>\n",
       "    <tr>\n",
       "      <th>top_6</th>\n",
       "      <td>0.841623</td>\n",
       "      <td>0.820402</td>\n",
       "      <td>0.813273</td>\n",
       "      <td>0.819979</td>\n",
       "      <td>0.817821</td>\n",
       "    </tr>\n",
       "    <tr>\n",
       "      <th>top_19</th>\n",
       "      <td>0.846387</td>\n",
       "      <td>0.822140</td>\n",
       "      <td>0.824600</td>\n",
       "      <td>0.822284</td>\n",
       "      <td>0.823024</td>\n",
       "    </tr>\n",
       "    <tr>\n",
       "      <th>top_21</th>\n",
       "      <td>0.847956</td>\n",
       "      <td>0.824925</td>\n",
       "      <td>0.824888</td>\n",
       "      <td>0.824922</td>\n",
       "      <td>0.824911</td>\n",
       "    </tr>\n",
       "    <tr>\n",
       "      <th>top_20</th>\n",
       "      <td>0.849399</td>\n",
       "      <td>0.825160</td>\n",
       "      <td>0.828745</td>\n",
       "      <td>0.825370</td>\n",
       "      <td>0.826447</td>\n",
       "    </tr>\n",
       "    <tr>\n",
       "      <th>top_22</th>\n",
       "      <td>0.848995</td>\n",
       "      <td>0.825573</td>\n",
       "      <td>0.826927</td>\n",
       "      <td>0.825653</td>\n",
       "      <td>0.826060</td>\n",
       "    </tr>\n",
       "    <tr>\n",
       "      <th>top_9</th>\n",
       "      <td>0.854548</td>\n",
       "      <td>0.843332</td>\n",
       "      <td>0.816731</td>\n",
       "      <td>0.841719</td>\n",
       "      <td>0.833558</td>\n",
       "    </tr>\n",
       "    <tr>\n",
       "      <th>top_11</th>\n",
       "      <td>0.854741</td>\n",
       "      <td>0.843765</td>\n",
       "      <td>0.816664</td>\n",
       "      <td>0.842121</td>\n",
       "      <td>0.833804</td>\n",
       "    </tr>\n",
       "    <tr>\n",
       "      <th>top_12</th>\n",
       "      <td>0.854722</td>\n",
       "      <td>0.844199</td>\n",
       "      <td>0.815999</td>\n",
       "      <td>0.842487</td>\n",
       "      <td>0.833826</td>\n",
       "    </tr>\n",
       "    <tr>\n",
       "      <th>top_8</th>\n",
       "      <td>0.853066</td>\n",
       "      <td>0.844502</td>\n",
       "      <td>0.810901</td>\n",
       "      <td>0.842449</td>\n",
       "      <td>0.832090</td>\n",
       "    </tr>\n",
       "    <tr>\n",
       "      <th>top_10</th>\n",
       "      <td>0.855395</td>\n",
       "      <td>0.845034</td>\n",
       "      <td>0.816731</td>\n",
       "      <td>0.843315</td>\n",
       "      <td>0.834621</td>\n",
       "    </tr>\n",
       "    <tr>\n",
       "      <th>top_13</th>\n",
       "      <td>0.856954</td>\n",
       "      <td>0.846304</td>\n",
       "      <td>0.819347</td>\n",
       "      <td>0.844669</td>\n",
       "      <td>0.836397</td>\n",
       "    </tr>\n",
       "    <tr>\n",
       "      <th>top_14</th>\n",
       "      <td>0.857137</td>\n",
       "      <td>0.846545</td>\n",
       "      <td>0.819524</td>\n",
       "      <td>0.844906</td>\n",
       "      <td>0.836614</td>\n",
       "    </tr>\n",
       "    <tr>\n",
       "      <th>top_7</th>\n",
       "      <td>0.853191</td>\n",
       "      <td>0.847161</td>\n",
       "      <td>0.807576</td>\n",
       "      <td>0.844725</td>\n",
       "      <td>0.832471</td>\n",
       "    </tr>\n",
       "    <tr>\n",
       "      <th>top_18</th>\n",
       "      <td>0.863884</td>\n",
       "      <td>0.853720</td>\n",
       "      <td>0.828457</td>\n",
       "      <td>0.852191</td>\n",
       "      <td>0.844450</td>\n",
       "    </tr>\n",
       "    <tr>\n",
       "      <th>top_15</th>\n",
       "      <td>0.871285</td>\n",
       "      <td>0.865163</td>\n",
       "      <td>0.833444</td>\n",
       "      <td>0.863231</td>\n",
       "      <td>0.853470</td>\n",
       "    </tr>\n",
       "    <tr>\n",
       "      <th>top_16</th>\n",
       "      <td>0.872363</td>\n",
       "      <td>0.866908</td>\n",
       "      <td>0.834087</td>\n",
       "      <td>0.864906</td>\n",
       "      <td>0.854799</td>\n",
       "    </tr>\n",
       "    <tr>\n",
       "      <th>top_17</th>\n",
       "      <td>0.872247</td>\n",
       "      <td>0.866989</td>\n",
       "      <td>0.833666</td>\n",
       "      <td>0.864956</td>\n",
       "      <td>0.854690</td>\n",
       "    </tr>\n",
       "  </tbody>\n",
       "</table>\n",
       "</div>"
      ],
      "text/plain": [
       "        accuracy  precision    recall  fbeta_precision  fbeta_recall\n",
       "top_1   0.787092   0.722713  0.826905         0.728110      0.757054\n",
       "top_2   0.788882   0.735856  0.801459         0.739416      0.758198\n",
       "top_3   0.812644   0.763062  0.824511         0.766422      0.784100\n",
       "top_5   0.835107   0.811391  0.808064         0.811195      0.810190\n",
       "top_4   0.835098   0.811401  0.808020         0.811201      0.810180\n",
       "top_6   0.841623   0.820402  0.813273         0.819979      0.817821\n",
       "top_19  0.846387   0.822140  0.824600         0.822284      0.823024\n",
       "top_21  0.847956   0.824925  0.824888         0.824922      0.824911\n",
       "top_20  0.849399   0.825160  0.828745         0.825370      0.826447\n",
       "top_22  0.848995   0.825573  0.826927         0.825653      0.826060\n",
       "top_9   0.854548   0.843332  0.816731         0.841719      0.833558\n",
       "top_11  0.854741   0.843765  0.816664         0.842121      0.833804\n",
       "top_12  0.854722   0.844199  0.815999         0.842487      0.833826\n",
       "top_8   0.853066   0.844502  0.810901         0.842449      0.832090\n",
       "top_10  0.855395   0.845034  0.816731         0.843315      0.834621\n",
       "top_13  0.856954   0.846304  0.819347         0.844669      0.836397\n",
       "top_14  0.857137   0.846545  0.819524         0.844906      0.836614\n",
       "top_7   0.853191   0.847161  0.807576         0.844725      0.832471\n",
       "top_18  0.863884   0.853720  0.828457         0.852191      0.844450\n",
       "top_15  0.871285   0.865163  0.833444         0.863231      0.853470\n",
       "top_16  0.872363   0.866908  0.834087         0.864906      0.854799\n",
       "top_17  0.872247   0.866989  0.833666         0.864956      0.854690"
      ]
     },
     "execution_count": 81,
     "metadata": {},
     "output_type": "execute_result"
    }
   ],
   "source": [
    "#Firstly let's sort by precision\n",
    "pd.DataFrame(scores_on_train).T.sort_values(\"precision\") #best precision for 17, not all 22 variables- some of them must be excluded"
   ]
  },
  {
   "cell_type": "code",
   "execution_count": 82,
   "id": "e769ccda",
   "metadata": {},
   "outputs": [
    {
     "data": {
      "text/html": [
       "<div>\n",
       "<style scoped>\n",
       "    .dataframe tbody tr th:only-of-type {\n",
       "        vertical-align: middle;\n",
       "    }\n",
       "\n",
       "    .dataframe tbody tr th {\n",
       "        vertical-align: top;\n",
       "    }\n",
       "\n",
       "    .dataframe thead th {\n",
       "        text-align: right;\n",
       "    }\n",
       "</style>\n",
       "<table border=\"1\" class=\"dataframe\">\n",
       "  <thead>\n",
       "    <tr style=\"text-align: right;\">\n",
       "      <th></th>\n",
       "      <th>accuracy</th>\n",
       "      <th>precision</th>\n",
       "      <th>recall</th>\n",
       "      <th>fbeta_precision</th>\n",
       "      <th>fbeta_recall</th>\n",
       "    </tr>\n",
       "  </thead>\n",
       "  <tbody>\n",
       "    <tr>\n",
       "      <th>top_16</th>\n",
       "      <td>0.872363</td>\n",
       "      <td>0.866908</td>\n",
       "      <td>0.834087</td>\n",
       "      <td>0.864906</td>\n",
       "      <td>0.854799</td>\n",
       "    </tr>\n",
       "  </tbody>\n",
       "</table>\n",
       "</div>"
      ],
      "text/plain": [
       "        accuracy  precision    recall  fbeta_precision  fbeta_recall\n",
       "top_16  0.872363   0.866908  0.834087         0.864906      0.854799"
      ]
     },
     "metadata": {},
     "output_type": "display_data"
    },
    {
     "data": {
      "text/html": [
       "<div>\n",
       "<style scoped>\n",
       "    .dataframe tbody tr th:only-of-type {\n",
       "        vertical-align: middle;\n",
       "    }\n",
       "\n",
       "    .dataframe tbody tr th {\n",
       "        vertical-align: top;\n",
       "    }\n",
       "\n",
       "    .dataframe thead th {\n",
       "        text-align: right;\n",
       "    }\n",
       "</style>\n",
       "<table border=\"1\" class=\"dataframe\">\n",
       "  <thead>\n",
       "    <tr style=\"text-align: right;\">\n",
       "      <th></th>\n",
       "      <th>accuracy</th>\n",
       "      <th>precision</th>\n",
       "      <th>recall</th>\n",
       "      <th>fbeta_precision</th>\n",
       "      <th>fbeta_recall</th>\n",
       "    </tr>\n",
       "  </thead>\n",
       "  <tbody>\n",
       "    <tr>\n",
       "      <th>top_17</th>\n",
       "      <td>0.872247</td>\n",
       "      <td>0.866989</td>\n",
       "      <td>0.833666</td>\n",
       "      <td>0.864956</td>\n",
       "      <td>0.85469</td>\n",
       "    </tr>\n",
       "  </tbody>\n",
       "</table>\n",
       "</div>"
      ],
      "text/plain": [
       "        accuracy  precision    recall  fbeta_precision  fbeta_recall\n",
       "top_17  0.872247   0.866989  0.833666         0.864956       0.85469"
      ]
     },
     "metadata": {},
     "output_type": "display_data"
    },
    {
     "data": {
      "text/html": [
       "<div>\n",
       "<style scoped>\n",
       "    .dataframe tbody tr th:only-of-type {\n",
       "        vertical-align: middle;\n",
       "    }\n",
       "\n",
       "    .dataframe tbody tr th {\n",
       "        vertical-align: top;\n",
       "    }\n",
       "\n",
       "    .dataframe thead th {\n",
       "        text-align: right;\n",
       "    }\n",
       "</style>\n",
       "<table border=\"1\" class=\"dataframe\">\n",
       "  <thead>\n",
       "    <tr style=\"text-align: right;\">\n",
       "      <th></th>\n",
       "      <th>accuracy</th>\n",
       "      <th>precision</th>\n",
       "      <th>recall</th>\n",
       "      <th>fbeta_precision</th>\n",
       "      <th>fbeta_recall</th>\n",
       "    </tr>\n",
       "  </thead>\n",
       "  <tbody>\n",
       "    <tr>\n",
       "      <th>top_16</th>\n",
       "      <td>0.872363</td>\n",
       "      <td>0.866908</td>\n",
       "      <td>0.834087</td>\n",
       "      <td>0.864906</td>\n",
       "      <td>0.854799</td>\n",
       "    </tr>\n",
       "  </tbody>\n",
       "</table>\n",
       "</div>"
      ],
      "text/plain": [
       "        accuracy  precision    recall  fbeta_precision  fbeta_recall\n",
       "top_16  0.872363   0.866908  0.834087         0.864906      0.854799"
      ]
     },
     "metadata": {},
     "output_type": "display_data"
    }
   ],
   "source": [
    "#How about comparing to other metrics?\n",
    "display(pd.DataFrame(scores_on_train).T.sort_values(\"recall\").tail(1)) #1 variable more to drop\n",
    "display(pd.DataFrame(scores_on_train).T.sort_values(\"fbeta_precision\").tail(1))\n",
    "display(pd.DataFrame(scores_on_train).T.sort_values(\"fbeta_recall\").tail(1)) #1 variable more to drop"
   ]
  },
  {
   "cell_type": "code",
   "execution_count": 83,
   "id": "aa338e15",
   "metadata": {},
   "outputs": [
    {
     "name": "stderr",
     "output_type": "stream",
     "text": [
      "  0%|                                                                                           | 0/22 [00:00<?, ?it/s]C:\\Users\\mbuda\\anaconda3\\lib\\site-packages\\sklearn\\utils\\validation.py:1143: DataConversionWarning: A column-vector y was passed when a 1d array was expected. Please change the shape of y to (n_samples, ), for example using ravel().\n",
      "  y = column_or_1d(y, warn=True)\n",
      "  5%|███▊                                                                               | 1/22 [00:00<00:02,  9.19it/s]C:\\Users\\mbuda\\anaconda3\\lib\\site-packages\\sklearn\\utils\\validation.py:1143: DataConversionWarning: A column-vector y was passed when a 1d array was expected. Please change the shape of y to (n_samples, ), for example using ravel().\n",
      "  y = column_or_1d(y, warn=True)\n",
      "  9%|███████▌                                                                           | 2/22 [00:00<00:02,  7.95it/s]C:\\Users\\mbuda\\anaconda3\\lib\\site-packages\\sklearn\\utils\\validation.py:1143: DataConversionWarning: A column-vector y was passed when a 1d array was expected. Please change the shape of y to (n_samples, ), for example using ravel().\n",
      "  y = column_or_1d(y, warn=True)\n",
      " 14%|███████████▎                                                                       | 3/22 [00:00<00:02,  6.56it/s]C:\\Users\\mbuda\\anaconda3\\lib\\site-packages\\sklearn\\utils\\validation.py:1143: DataConversionWarning: A column-vector y was passed when a 1d array was expected. Please change the shape of y to (n_samples, ), for example using ravel().\n",
      "  y = column_or_1d(y, warn=True)\n",
      " 18%|███████████████                                                                    | 4/22 [00:00<00:03,  5.73it/s]C:\\Users\\mbuda\\anaconda3\\lib\\site-packages\\sklearn\\utils\\validation.py:1143: DataConversionWarning: A column-vector y was passed when a 1d array was expected. Please change the shape of y to (n_samples, ), for example using ravel().\n",
      "  y = column_or_1d(y, warn=True)\n",
      " 23%|██████████████████▊                                                                | 5/22 [00:00<00:03,  5.28it/s]C:\\Users\\mbuda\\anaconda3\\lib\\site-packages\\sklearn\\utils\\validation.py:1143: DataConversionWarning: A column-vector y was passed when a 1d array was expected. Please change the shape of y to (n_samples, ), for example using ravel().\n",
      "  y = column_or_1d(y, warn=True)\n",
      " 27%|██████████████████████▋                                                            | 6/22 [00:01<00:03,  4.84it/s]C:\\Users\\mbuda\\anaconda3\\lib\\site-packages\\sklearn\\utils\\validation.py:1143: DataConversionWarning: A column-vector y was passed when a 1d array was expected. Please change the shape of y to (n_samples, ), for example using ravel().\n",
      "  y = column_or_1d(y, warn=True)\n",
      " 32%|██████████████████████████▍                                                        | 7/22 [00:01<00:03,  4.60it/s]C:\\Users\\mbuda\\anaconda3\\lib\\site-packages\\sklearn\\utils\\validation.py:1143: DataConversionWarning: A column-vector y was passed when a 1d array was expected. Please change the shape of y to (n_samples, ), for example using ravel().\n",
      "  y = column_or_1d(y, warn=True)\n",
      " 36%|██████████████████████████████▏                                                    | 8/22 [00:01<00:03,  4.20it/s]C:\\Users\\mbuda\\anaconda3\\lib\\site-packages\\sklearn\\utils\\validation.py:1143: DataConversionWarning: A column-vector y was passed when a 1d array was expected. Please change the shape of y to (n_samples, ), for example using ravel().\n",
      "  y = column_or_1d(y, warn=True)\n",
      " 41%|█████████████████████████████████▉                                                 | 9/22 [00:01<00:03,  3.79it/s]C:\\Users\\mbuda\\anaconda3\\lib\\site-packages\\sklearn\\utils\\validation.py:1143: DataConversionWarning: A column-vector y was passed when a 1d array was expected. Please change the shape of y to (n_samples, ), for example using ravel().\n",
      "  y = column_or_1d(y, warn=True)\n",
      " 45%|█████████████████████████████████████▎                                            | 10/22 [00:02<00:04,  2.61it/s]C:\\Users\\mbuda\\anaconda3\\lib\\site-packages\\sklearn\\utils\\validation.py:1143: DataConversionWarning: A column-vector y was passed when a 1d array was expected. Please change the shape of y to (n_samples, ), for example using ravel().\n",
      "  y = column_or_1d(y, warn=True)\n",
      " 50%|█████████████████████████████████████████                                         | 11/22 [00:02<00:04,  2.67it/s]C:\\Users\\mbuda\\anaconda3\\lib\\site-packages\\sklearn\\utils\\validation.py:1143: DataConversionWarning: A column-vector y was passed when a 1d array was expected. Please change the shape of y to (n_samples, ), for example using ravel().\n",
      "  y = column_or_1d(y, warn=True)\n",
      " 55%|████████████████████████████████████████████▋                                     | 12/22 [00:03<00:04,  2.15it/s]C:\\Users\\mbuda\\anaconda3\\lib\\site-packages\\sklearn\\utils\\validation.py:1143: DataConversionWarning: A column-vector y was passed when a 1d array was expected. Please change the shape of y to (n_samples, ), for example using ravel().\n",
      "  y = column_or_1d(y, warn=True)\n",
      " 59%|████████████████████████████████████████████████▍                                 | 13/22 [00:04<00:04,  1.87it/s]C:\\Users\\mbuda\\anaconda3\\lib\\site-packages\\sklearn\\utils\\validation.py:1143: DataConversionWarning: A column-vector y was passed when a 1d array was expected. Please change the shape of y to (n_samples, ), for example using ravel().\n",
      "  y = column_or_1d(y, warn=True)\n",
      " 64%|████████████████████████████████████████████████████▏                             | 14/22 [00:05<00:05,  1.59it/s]C:\\Users\\mbuda\\anaconda3\\lib\\site-packages\\sklearn\\utils\\validation.py:1143: DataConversionWarning: A column-vector y was passed when a 1d array was expected. Please change the shape of y to (n_samples, ), for example using ravel().\n",
      "  y = column_or_1d(y, warn=True)\n",
      " 68%|███████████████████████████████████████████████████████▉                          | 15/22 [00:06<00:05,  1.39it/s]C:\\Users\\mbuda\\anaconda3\\lib\\site-packages\\sklearn\\utils\\validation.py:1143: DataConversionWarning: A column-vector y was passed when a 1d array was expected. Please change the shape of y to (n_samples, ), for example using ravel().\n",
      "  y = column_or_1d(y, warn=True)\n",
      " 73%|███████████████████████████████████████████████████████████▋                      | 16/22 [00:07<00:04,  1.25it/s]C:\\Users\\mbuda\\anaconda3\\lib\\site-packages\\sklearn\\utils\\validation.py:1143: DataConversionWarning: A column-vector y was passed when a 1d array was expected. Please change the shape of y to (n_samples, ), for example using ravel().\n",
      "  y = column_or_1d(y, warn=True)\n",
      " 77%|███████████████████████████████████████████████████████████████▎                  | 17/22 [00:07<00:04,  1.24it/s]C:\\Users\\mbuda\\anaconda3\\lib\\site-packages\\sklearn\\utils\\validation.py:1143: DataConversionWarning: A column-vector y was passed when a 1d array was expected. Please change the shape of y to (n_samples, ), for example using ravel().\n",
      "  y = column_or_1d(y, warn=True)\n",
      "C:\\Users\\mbuda\\anaconda3\\lib\\site-packages\\sklearn\\linear_model\\_logistic.py:458: ConvergenceWarning: lbfgs failed to converge (status=1):\n",
      "STOP: TOTAL NO. of ITERATIONS REACHED LIMIT.\n",
      "\n",
      "Increase the number of iterations (max_iter) or scale the data as shown in:\n",
      "    https://scikit-learn.org/stable/modules/preprocessing.html\n",
      "Please also refer to the documentation for alternative solver options:\n",
      "    https://scikit-learn.org/stable/modules/linear_model.html#logistic-regression\n",
      "  n_iter_i = _check_optimize_result(\n",
      " 82%|███████████████████████████████████████████████████████████████████               | 18/22 [00:08<00:03,  1.13it/s]C:\\Users\\mbuda\\anaconda3\\lib\\site-packages\\sklearn\\utils\\validation.py:1143: DataConversionWarning: A column-vector y was passed when a 1d array was expected. Please change the shape of y to (n_samples, ), for example using ravel().\n",
      "  y = column_or_1d(y, warn=True)\n",
      "C:\\Users\\mbuda\\anaconda3\\lib\\site-packages\\sklearn\\linear_model\\_logistic.py:458: ConvergenceWarning: lbfgs failed to converge (status=1):\n",
      "STOP: TOTAL NO. of ITERATIONS REACHED LIMIT.\n",
      "\n",
      "Increase the number of iterations (max_iter) or scale the data as shown in:\n",
      "    https://scikit-learn.org/stable/modules/preprocessing.html\n",
      "Please also refer to the documentation for alternative solver options:\n",
      "    https://scikit-learn.org/stable/modules/linear_model.html#logistic-regression\n",
      "  n_iter_i = _check_optimize_result(\n"
     ]
    },
    {
     "name": "stderr",
     "output_type": "stream",
     "text": [
      " 86%|██████████████████████████████████████████████████████████████████████▊           | 19/22 [00:10<00:02,  1.06it/s]C:\\Users\\mbuda\\anaconda3\\lib\\site-packages\\sklearn\\utils\\validation.py:1143: DataConversionWarning: A column-vector y was passed when a 1d array was expected. Please change the shape of y to (n_samples, ), for example using ravel().\n",
      "  y = column_or_1d(y, warn=True)\n",
      "C:\\Users\\mbuda\\anaconda3\\lib\\site-packages\\sklearn\\linear_model\\_logistic.py:458: ConvergenceWarning: lbfgs failed to converge (status=1):\n",
      "STOP: TOTAL NO. of ITERATIONS REACHED LIMIT.\n",
      "\n",
      "Increase the number of iterations (max_iter) or scale the data as shown in:\n",
      "    https://scikit-learn.org/stable/modules/preprocessing.html\n",
      "Please also refer to the documentation for alternative solver options:\n",
      "    https://scikit-learn.org/stable/modules/linear_model.html#logistic-regression\n",
      "  n_iter_i = _check_optimize_result(\n",
      " 91%|██████████████████████████████████████████████████████████████████████████▌       | 20/22 [00:11<00:02,  1.05s/it]C:\\Users\\mbuda\\anaconda3\\lib\\site-packages\\sklearn\\utils\\validation.py:1143: DataConversionWarning: A column-vector y was passed when a 1d array was expected. Please change the shape of y to (n_samples, ), for example using ravel().\n",
      "  y = column_or_1d(y, warn=True)\n",
      "C:\\Users\\mbuda\\anaconda3\\lib\\site-packages\\sklearn\\linear_model\\_logistic.py:458: ConvergenceWarning: lbfgs failed to converge (status=1):\n",
      "STOP: TOTAL NO. of ITERATIONS REACHED LIMIT.\n",
      "\n",
      "Increase the number of iterations (max_iter) or scale the data as shown in:\n",
      "    https://scikit-learn.org/stable/modules/preprocessing.html\n",
      "Please also refer to the documentation for alternative solver options:\n",
      "    https://scikit-learn.org/stable/modules/linear_model.html#logistic-regression\n",
      "  n_iter_i = _check_optimize_result(\n",
      " 95%|██████████████████████████████████████████████████████████████████████████████▎   | 21/22 [00:12<00:01,  1.13s/it]C:\\Users\\mbuda\\anaconda3\\lib\\site-packages\\sklearn\\utils\\validation.py:1143: DataConversionWarning: A column-vector y was passed when a 1d array was expected. Please change the shape of y to (n_samples, ), for example using ravel().\n",
      "  y = column_or_1d(y, warn=True)\n",
      "C:\\Users\\mbuda\\anaconda3\\lib\\site-packages\\sklearn\\linear_model\\_logistic.py:458: ConvergenceWarning: lbfgs failed to converge (status=1):\n",
      "STOP: TOTAL NO. of ITERATIONS REACHED LIMIT.\n",
      "\n",
      "Increase the number of iterations (max_iter) or scale the data as shown in:\n",
      "    https://scikit-learn.org/stable/modules/preprocessing.html\n",
      "Please also refer to the documentation for alternative solver options:\n",
      "    https://scikit-learn.org/stable/modules/linear_model.html#logistic-regression\n",
      "  n_iter_i = _check_optimize_result(\n",
      "100%|██████████████████████████████████████████████████████████████████████████████████| 22/22 [00:14<00:00,  1.56it/s]\n"
     ]
    }
   ],
   "source": [
    "#Now let's assess the metrics on test set\n",
    "scores_on_test = dict()\n",
    "\n",
    "for i in tqdm(range(1, 23)):\n",
    "    feautres_i = feature_selection_with_corr.index[1 : 1 + i]\n",
    "    pred = logit_model_wrapper(\n",
    "        df_train[feautres_i], df_train[[\"satisfaction\"]], df_test[feautres_i]\n",
    "    )\n",
    "    score = scoring_wrapper(df_test[[\"satisfaction\"]].to_numpy().ravel(), pred)\n",
    "    scores_on_test.update({f\"top_{i}\": score})"
   ]
  },
  {
   "cell_type": "code",
   "execution_count": 84,
   "id": "1e879b95",
   "metadata": {},
   "outputs": [
    {
     "data": {
      "text/plain": [
       "{'top_1': {'accuracy': 0.7860332614721282,\n",
       "  'precision': 0.7236208236208236,\n",
       "  'recall': 0.8231394732190207,\n",
       "  'fbeta_precision': 0.7288039625472992,\n",
       "  'fbeta_recall': 0.7565492321589883},\n",
       " 'top_2': {'accuracy': 0.7893825069294733,\n",
       "  'precision': 0.7404724668697013,\n",
       "  'recall': 0.7951210889163868,\n",
       "  'fbeta_precision': 0.7434783031434433,\n",
       "  'fbeta_recall': 0.759258634077175},\n",
       " 'top_3': {'accuracy': 0.8149060671388975,\n",
       "  'precision': 0.7681338608638312,\n",
       "  'recall': 0.8236697896411526,\n",
       "  'fbeta_precision': 0.7711925462210236,\n",
       "  'fbeta_recall': 0.7872425981117667},\n",
       " 'top_4': {'accuracy': 0.8356944872189713,\n",
       "  'precision': 0.8156244400645045,\n",
       "  'recall': 0.8046667845147605,\n",
       "  'fbeta_precision': 0.8149716175370971,\n",
       "  'fbeta_recall': 0.8116454721166259},\n",
       " 'top_5': {'accuracy': 0.8356944872189713,\n",
       "  'precision': 0.8156244400645045,\n",
       "  'recall': 0.8046667845147605,\n",
       "  'fbeta_precision': 0.8149716175370971,\n",
       "  'fbeta_recall': 0.8116454721166259},\n",
       " 'top_6': {'accuracy': 0.8427394518016631,\n",
       "  'precision': 0.8249572956936079,\n",
       "  'recall': 0.8110305815803429,\n",
       "  'fbeta_precision': 0.8241248507517884,\n",
       "  'fbeta_recall': 0.8198889182755885},\n",
       " 'top_7': {'accuracy': 0.853018170619033,\n",
       "  'precision': 0.8498879761015683,\n",
       "  'recall': 0.8046667845147605,\n",
       "  'fbeta_precision': 0.8470876709029808,\n",
       "  'fbeta_recall': 0.8330344267215191},\n",
       " 'top_8': {'accuracy': 0.8517477671696951,\n",
       "  'precision': 0.8457974237790752,\n",
       "  'recall': 0.8066996641329327,\n",
       "  'fbeta_precision': 0.8433929445018209,\n",
       "  'fbeta_recall': 0.8312931266895462},\n",
       " 'top_9': {'accuracy': 0.8549815214043732,\n",
       "  'precision': 0.8466060439055755,\n",
       "  'recall': 0.8146544104649107,\n",
       "  'fbeta_precision': 0.8446573156663396,\n",
       "  'fbeta_recall': 0.8348187437051207},\n",
       " 'top_10': {'accuracy': 0.8542500769941485,\n",
       "  'precision': 0.8462104488594555,\n",
       "  'recall': 0.8131518472688705,\n",
       "  'fbeta_precision': 0.8441915947880345,\n",
       "  'fbeta_recall': 0.8340041627686038},\n",
       " 'top_11': {'accuracy': 0.8539036033261472,\n",
       "  'precision': 0.845383555351401,\n",
       "  'recall': 0.813328619409581,\n",
       "  'fbeta_precision': 0.8434281893958183,\n",
       "  'fbeta_recall': 0.8335567746190023},\n",
       " 'top_12': {'accuracy': 0.8545195565137049,\n",
       "  'precision': 0.8471390398968027,\n",
       "  'recall': 0.8126215308467386,\n",
       "  'fbeta_precision': 0.8450276272964177,\n",
       "  'fbeta_recall': 0.8343800140848139},\n",
       " 'top_13': {'accuracy': 0.8571373575608254,\n",
       "  'precision': 0.850078276084354,\n",
       "  'recall': 0.8158918154498851,\n",
       "  'fbeta_precision': 0.8479881982945888,\n",
       "  'fbeta_recall': 0.8374460209747069},\n",
       " 'top_14': {'accuracy': 0.8579072990452725,\n",
       "  'precision': 0.8512579485761681,\n",
       "  'recall': 0.816422131872017,\n",
       "  'fbeta_precision': 0.8491266965878981,\n",
       "  'fbeta_recall': 0.8383797677914043},\n",
       " 'top_15': {'accuracy': 0.8705728364644287,\n",
       "  'precision': 0.8691736304549675,\n",
       "  'recall': 0.8273820045960757,\n",
       "  'fbeta_precision': 0.8665987780040734,\n",
       "  'fbeta_recall': 0.8536509742983666},\n",
       " 'top_16': {'accuracy': 0.8708808130582075,\n",
       "  'precision': 0.8694764203490531,\n",
       "  'recall': 0.8278239349478522,\n",
       "  'fbeta_precision': 0.8669105876972331,\n",
       "  'fbeta_recall': 0.8540072507641021},\n",
       " 'top_17': {'accuracy': 0.8722667077302125,\n",
       "  'precision': 0.8709408053442197,\n",
       "  'recall': 0.8296800424253138,\n",
       "  'fbeta_precision': 0.8684004309922617,\n",
       "  'fbeta_recall': 0.8556224797100709},\n",
       " 'top_18': {'accuracy': 0.8626039421004004,\n",
       "  'precision': 0.8560264778891239,\n",
       "  'recall': 0.82296270107831,\n",
       "  'fbeta_precision': 0.8540081792970985,\n",
       "  'fbeta_recall': 0.8438218213718653},\n",
       " 'top_19': {'accuracy': 0.8471666153372344,\n",
       "  'precision': 0.8273894436519258,\n",
       "  'recall': 0.8202227328972954,\n",
       "  'fbeta_precision': 0.8269644074015831,\n",
       "  'fbeta_recall': 0.824795045541485},\n",
       " 'top_20': {'accuracy': 0.8488219895287958,\n",
       "  'precision': 0.8280486721733724,\n",
       "  'recall': 0.8240233339225738,\n",
       "  'fbeta_precision': 0.8278107992353414,\n",
       "  'fbeta_recall': 0.8265950278398411},\n",
       " 'top_21': {'accuracy': 0.8487834924545734,\n",
       "  'precision': 0.8297321428571428,\n",
       "  'recall': 0.8213717518119145,\n",
       "  'fbeta_precision': 0.8292356467241252,\n",
       "  'fbeta_recall': 0.8267028673503518},\n",
       " 'top_22': {'accuracy': 0.848629504157684,\n",
       "  'precision': 0.8290247816009984,\n",
       "  'recall': 0.8219904543044017,\n",
       "  'fbeta_precision': 0.828607666586304,\n",
       "  'fbeta_recall': 0.826478596870401}}"
      ]
     },
     "execution_count": 84,
     "metadata": {},
     "output_type": "execute_result"
    }
   ],
   "source": [
    "scores_on_test"
   ]
  },
  {
   "cell_type": "code",
   "execution_count": 85,
   "id": "80a25230",
   "metadata": {},
   "outputs": [
    {
     "data": {
      "text/html": [
       "<div>\n",
       "<style scoped>\n",
       "    .dataframe tbody tr th:only-of-type {\n",
       "        vertical-align: middle;\n",
       "    }\n",
       "\n",
       "    .dataframe tbody tr th {\n",
       "        vertical-align: top;\n",
       "    }\n",
       "\n",
       "    .dataframe thead th {\n",
       "        text-align: right;\n",
       "    }\n",
       "</style>\n",
       "<table border=\"1\" class=\"dataframe\">\n",
       "  <thead>\n",
       "    <tr style=\"text-align: right;\">\n",
       "      <th></th>\n",
       "      <th>accuracy</th>\n",
       "      <th>precision</th>\n",
       "      <th>recall</th>\n",
       "      <th>fbeta_precision</th>\n",
       "      <th>fbeta_recall</th>\n",
       "    </tr>\n",
       "  </thead>\n",
       "  <tbody>\n",
       "    <tr>\n",
       "      <th>top_1</th>\n",
       "      <td>0.786033</td>\n",
       "      <td>0.723621</td>\n",
       "      <td>0.823139</td>\n",
       "      <td>0.728804</td>\n",
       "      <td>0.756549</td>\n",
       "    </tr>\n",
       "    <tr>\n",
       "      <th>top_2</th>\n",
       "      <td>0.789383</td>\n",
       "      <td>0.740472</td>\n",
       "      <td>0.795121</td>\n",
       "      <td>0.743478</td>\n",
       "      <td>0.759259</td>\n",
       "    </tr>\n",
       "    <tr>\n",
       "      <th>top_3</th>\n",
       "      <td>0.814906</td>\n",
       "      <td>0.768134</td>\n",
       "      <td>0.823670</td>\n",
       "      <td>0.771193</td>\n",
       "      <td>0.787243</td>\n",
       "    </tr>\n",
       "    <tr>\n",
       "      <th>top_4</th>\n",
       "      <td>0.835694</td>\n",
       "      <td>0.815624</td>\n",
       "      <td>0.804667</td>\n",
       "      <td>0.814972</td>\n",
       "      <td>0.811645</td>\n",
       "    </tr>\n",
       "    <tr>\n",
       "      <th>top_5</th>\n",
       "      <td>0.835694</td>\n",
       "      <td>0.815624</td>\n",
       "      <td>0.804667</td>\n",
       "      <td>0.814972</td>\n",
       "      <td>0.811645</td>\n",
       "    </tr>\n",
       "    <tr>\n",
       "      <th>top_6</th>\n",
       "      <td>0.842739</td>\n",
       "      <td>0.824957</td>\n",
       "      <td>0.811031</td>\n",
       "      <td>0.824125</td>\n",
       "      <td>0.819889</td>\n",
       "    </tr>\n",
       "    <tr>\n",
       "      <th>top_19</th>\n",
       "      <td>0.847167</td>\n",
       "      <td>0.827389</td>\n",
       "      <td>0.820223</td>\n",
       "      <td>0.826964</td>\n",
       "      <td>0.824795</td>\n",
       "    </tr>\n",
       "    <tr>\n",
       "      <th>top_20</th>\n",
       "      <td>0.848822</td>\n",
       "      <td>0.828049</td>\n",
       "      <td>0.824023</td>\n",
       "      <td>0.827811</td>\n",
       "      <td>0.826595</td>\n",
       "    </tr>\n",
       "    <tr>\n",
       "      <th>top_22</th>\n",
       "      <td>0.848630</td>\n",
       "      <td>0.829025</td>\n",
       "      <td>0.821990</td>\n",
       "      <td>0.828608</td>\n",
       "      <td>0.826479</td>\n",
       "    </tr>\n",
       "    <tr>\n",
       "      <th>top_21</th>\n",
       "      <td>0.848783</td>\n",
       "      <td>0.829732</td>\n",
       "      <td>0.821372</td>\n",
       "      <td>0.829236</td>\n",
       "      <td>0.826703</td>\n",
       "    </tr>\n",
       "    <tr>\n",
       "      <th>top_11</th>\n",
       "      <td>0.853904</td>\n",
       "      <td>0.845384</td>\n",
       "      <td>0.813329</td>\n",
       "      <td>0.843428</td>\n",
       "      <td>0.833557</td>\n",
       "    </tr>\n",
       "    <tr>\n",
       "      <th>top_8</th>\n",
       "      <td>0.851748</td>\n",
       "      <td>0.845797</td>\n",
       "      <td>0.806700</td>\n",
       "      <td>0.843393</td>\n",
       "      <td>0.831293</td>\n",
       "    </tr>\n",
       "    <tr>\n",
       "      <th>top_10</th>\n",
       "      <td>0.854250</td>\n",
       "      <td>0.846210</td>\n",
       "      <td>0.813152</td>\n",
       "      <td>0.844192</td>\n",
       "      <td>0.834004</td>\n",
       "    </tr>\n",
       "    <tr>\n",
       "      <th>top_9</th>\n",
       "      <td>0.854982</td>\n",
       "      <td>0.846606</td>\n",
       "      <td>0.814654</td>\n",
       "      <td>0.844657</td>\n",
       "      <td>0.834819</td>\n",
       "    </tr>\n",
       "    <tr>\n",
       "      <th>top_12</th>\n",
       "      <td>0.854520</td>\n",
       "      <td>0.847139</td>\n",
       "      <td>0.812622</td>\n",
       "      <td>0.845028</td>\n",
       "      <td>0.834380</td>\n",
       "    </tr>\n",
       "    <tr>\n",
       "      <th>top_7</th>\n",
       "      <td>0.853018</td>\n",
       "      <td>0.849888</td>\n",
       "      <td>0.804667</td>\n",
       "      <td>0.847088</td>\n",
       "      <td>0.833034</td>\n",
       "    </tr>\n",
       "    <tr>\n",
       "      <th>top_13</th>\n",
       "      <td>0.857137</td>\n",
       "      <td>0.850078</td>\n",
       "      <td>0.815892</td>\n",
       "      <td>0.847988</td>\n",
       "      <td>0.837446</td>\n",
       "    </tr>\n",
       "    <tr>\n",
       "      <th>top_14</th>\n",
       "      <td>0.857907</td>\n",
       "      <td>0.851258</td>\n",
       "      <td>0.816422</td>\n",
       "      <td>0.849127</td>\n",
       "      <td>0.838380</td>\n",
       "    </tr>\n",
       "    <tr>\n",
       "      <th>top_18</th>\n",
       "      <td>0.862604</td>\n",
       "      <td>0.856026</td>\n",
       "      <td>0.822963</td>\n",
       "      <td>0.854008</td>\n",
       "      <td>0.843822</td>\n",
       "    </tr>\n",
       "    <tr>\n",
       "      <th>top_15</th>\n",
       "      <td>0.870573</td>\n",
       "      <td>0.869174</td>\n",
       "      <td>0.827382</td>\n",
       "      <td>0.866599</td>\n",
       "      <td>0.853651</td>\n",
       "    </tr>\n",
       "    <tr>\n",
       "      <th>top_16</th>\n",
       "      <td>0.870881</td>\n",
       "      <td>0.869476</td>\n",
       "      <td>0.827824</td>\n",
       "      <td>0.866911</td>\n",
       "      <td>0.854007</td>\n",
       "    </tr>\n",
       "    <tr>\n",
       "      <th>top_17</th>\n",
       "      <td>0.872267</td>\n",
       "      <td>0.870941</td>\n",
       "      <td>0.829680</td>\n",
       "      <td>0.868400</td>\n",
       "      <td>0.855622</td>\n",
       "    </tr>\n",
       "  </tbody>\n",
       "</table>\n",
       "</div>"
      ],
      "text/plain": [
       "        accuracy  precision    recall  fbeta_precision  fbeta_recall\n",
       "top_1   0.786033   0.723621  0.823139         0.728804      0.756549\n",
       "top_2   0.789383   0.740472  0.795121         0.743478      0.759259\n",
       "top_3   0.814906   0.768134  0.823670         0.771193      0.787243\n",
       "top_4   0.835694   0.815624  0.804667         0.814972      0.811645\n",
       "top_5   0.835694   0.815624  0.804667         0.814972      0.811645\n",
       "top_6   0.842739   0.824957  0.811031         0.824125      0.819889\n",
       "top_19  0.847167   0.827389  0.820223         0.826964      0.824795\n",
       "top_20  0.848822   0.828049  0.824023         0.827811      0.826595\n",
       "top_22  0.848630   0.829025  0.821990         0.828608      0.826479\n",
       "top_21  0.848783   0.829732  0.821372         0.829236      0.826703\n",
       "top_11  0.853904   0.845384  0.813329         0.843428      0.833557\n",
       "top_8   0.851748   0.845797  0.806700         0.843393      0.831293\n",
       "top_10  0.854250   0.846210  0.813152         0.844192      0.834004\n",
       "top_9   0.854982   0.846606  0.814654         0.844657      0.834819\n",
       "top_12  0.854520   0.847139  0.812622         0.845028      0.834380\n",
       "top_7   0.853018   0.849888  0.804667         0.847088      0.833034\n",
       "top_13  0.857137   0.850078  0.815892         0.847988      0.837446\n",
       "top_14  0.857907   0.851258  0.816422         0.849127      0.838380\n",
       "top_18  0.862604   0.856026  0.822963         0.854008      0.843822\n",
       "top_15  0.870573   0.869174  0.827382         0.866599      0.853651\n",
       "top_16  0.870881   0.869476  0.827824         0.866911      0.854007\n",
       "top_17  0.872267   0.870941  0.829680         0.868400      0.855622"
      ]
     },
     "execution_count": 85,
     "metadata": {},
     "output_type": "execute_result"
    }
   ],
   "source": [
    "pd.DataFrame(scores_on_test).T.sort_values(\"precision\") #similar results concerning maximization of precision"
   ]
  },
  {
   "cell_type": "code",
   "execution_count": 86,
   "id": "cf08b6b1",
   "metadata": {},
   "outputs": [
    {
     "data": {
      "text/html": [
       "<div>\n",
       "<style scoped>\n",
       "    .dataframe tbody tr th:only-of-type {\n",
       "        vertical-align: middle;\n",
       "    }\n",
       "\n",
       "    .dataframe tbody tr th {\n",
       "        vertical-align: top;\n",
       "    }\n",
       "\n",
       "    .dataframe thead th {\n",
       "        text-align: right;\n",
       "    }\n",
       "</style>\n",
       "<table border=\"1\" class=\"dataframe\">\n",
       "  <thead>\n",
       "    <tr style=\"text-align: right;\">\n",
       "      <th></th>\n",
       "      <th>accuracy</th>\n",
       "      <th>precision</th>\n",
       "      <th>recall</th>\n",
       "      <th>fbeta_precision</th>\n",
       "      <th>fbeta_recall</th>\n",
       "    </tr>\n",
       "  </thead>\n",
       "  <tbody>\n",
       "    <tr>\n",
       "      <th>top_17</th>\n",
       "      <td>0.872267</td>\n",
       "      <td>0.870941</td>\n",
       "      <td>0.82968</td>\n",
       "      <td>0.8684</td>\n",
       "      <td>0.855622</td>\n",
       "    </tr>\n",
       "  </tbody>\n",
       "</table>\n",
       "</div>"
      ],
      "text/plain": [
       "        accuracy  precision   recall  fbeta_precision  fbeta_recall\n",
       "top_17  0.872267   0.870941  0.82968           0.8684      0.855622"
      ]
     },
     "metadata": {},
     "output_type": "display_data"
    },
    {
     "data": {
      "text/html": [
       "<div>\n",
       "<style scoped>\n",
       "    .dataframe tbody tr th:only-of-type {\n",
       "        vertical-align: middle;\n",
       "    }\n",
       "\n",
       "    .dataframe tbody tr th {\n",
       "        vertical-align: top;\n",
       "    }\n",
       "\n",
       "    .dataframe thead th {\n",
       "        text-align: right;\n",
       "    }\n",
       "</style>\n",
       "<table border=\"1\" class=\"dataframe\">\n",
       "  <thead>\n",
       "    <tr style=\"text-align: right;\">\n",
       "      <th></th>\n",
       "      <th>accuracy</th>\n",
       "      <th>precision</th>\n",
       "      <th>recall</th>\n",
       "      <th>fbeta_precision</th>\n",
       "      <th>fbeta_recall</th>\n",
       "    </tr>\n",
       "  </thead>\n",
       "  <tbody>\n",
       "    <tr>\n",
       "      <th>top_17</th>\n",
       "      <td>0.872267</td>\n",
       "      <td>0.870941</td>\n",
       "      <td>0.82968</td>\n",
       "      <td>0.8684</td>\n",
       "      <td>0.855622</td>\n",
       "    </tr>\n",
       "  </tbody>\n",
       "</table>\n",
       "</div>"
      ],
      "text/plain": [
       "        accuracy  precision   recall  fbeta_precision  fbeta_recall\n",
       "top_17  0.872267   0.870941  0.82968           0.8684      0.855622"
      ]
     },
     "metadata": {},
     "output_type": "display_data"
    },
    {
     "data": {
      "text/html": [
       "<div>\n",
       "<style scoped>\n",
       "    .dataframe tbody tr th:only-of-type {\n",
       "        vertical-align: middle;\n",
       "    }\n",
       "\n",
       "    .dataframe tbody tr th {\n",
       "        vertical-align: top;\n",
       "    }\n",
       "\n",
       "    .dataframe thead th {\n",
       "        text-align: right;\n",
       "    }\n",
       "</style>\n",
       "<table border=\"1\" class=\"dataframe\">\n",
       "  <thead>\n",
       "    <tr style=\"text-align: right;\">\n",
       "      <th></th>\n",
       "      <th>accuracy</th>\n",
       "      <th>precision</th>\n",
       "      <th>recall</th>\n",
       "      <th>fbeta_precision</th>\n",
       "      <th>fbeta_recall</th>\n",
       "    </tr>\n",
       "  </thead>\n",
       "  <tbody>\n",
       "    <tr>\n",
       "      <th>top_17</th>\n",
       "      <td>0.872267</td>\n",
       "      <td>0.870941</td>\n",
       "      <td>0.82968</td>\n",
       "      <td>0.8684</td>\n",
       "      <td>0.855622</td>\n",
       "    </tr>\n",
       "  </tbody>\n",
       "</table>\n",
       "</div>"
      ],
      "text/plain": [
       "        accuracy  precision   recall  fbeta_precision  fbeta_recall\n",
       "top_17  0.872267   0.870941  0.82968           0.8684      0.855622"
      ]
     },
     "metadata": {},
     "output_type": "display_data"
    }
   ],
   "source": [
    "#How about comparing to other metrics?\n",
    "display(pd.DataFrame(scores_on_test).T.sort_values(\"recall\").tail(1)) \n",
    "display(pd.DataFrame(scores_on_test).T.sort_values(\"fbeta_precision\").tail(1))\n",
    "display(pd.DataFrame(scores_on_test).T.sort_values(\"fbeta_recall\").tail(1)) \n",
    "#on test set we obtain actually best metric value for 17 variables- we will apply this assumption in our model"
   ]
  },
  {
   "cell_type": "code",
   "execution_count": 87,
   "id": "6db46cc6",
   "metadata": {},
   "outputs": [
    {
     "data": {
      "image/png": "[encoded data removed]",
      "text/plain": [
       "<Figure size 800x600 with 1 Axes>"
      ]
     },
     "metadata": {},
     "output_type": "display_data"
    }
   ],
   "source": [
    "#Let's analyse the ROC curve for the logistic regression with all variables\n",
    "y_proba = lr.predict_proba(x_test_scaled)[:, 1]\n",
    "fpr, tpr, thresholds = roc_curve(y_test.Satisfaction, y_proba)\n",
    "roc_auc = auc(fpr, tpr)\n",
    "plt.figure(figsize=(8, 6))\n",
    "plt.plot(fpr, tpr, color='blue', lw=2, label=f'ROC curve (area = {roc_auc:.2f})')\n",
    "plt.plot([0, 1], [0, 1], color='black', lw=1, linestyle='--')\n",
    "plt.xlabel('FP Rate')\n",
    "plt.ylabel('TP Rate')\n",
    "plt.title('ROC Curve for model with all variables')\n",
    "plt.legend(loc=\"lower right\")\n",
    "plt.grid(alpha=0.3)\n",
    "plt.show()"
   ]
  },
  {
   "cell_type": "code",
   "execution_count": 88,
   "id": "ec67dd1c",
   "metadata": {},
   "outputs": [
    {
     "data": {
      "image/png": "[encoded data removed]",
      "text/plain": [
       "<Figure size 800x600 with 1 Axes>"
      ]
     },
     "metadata": {},
     "output_type": "display_data"
    }
   ],
   "source": [
    "#Similarly for PR curve\n",
    "precision, recall, thresholds = precision_recall_curve(y_test.Satisfaction, y_proba)\n",
    "average_precision = average_precision_score(y_test.Satisfaction, y_proba)\n",
    "plt.figure(figsize=(8, 6))\n",
    "plt.plot(recall, precision, color='red', lw=2, label=f'PR curve (AP = {average_precision:.2f})')\n",
    "plt.xlabel('Recall')\n",
    "plt.ylabel('Precision')\n",
    "plt.title('Precision-Recall (PR) Curve for model with all variables')\n",
    "plt.legend(loc=\"lower left\")\n",
    "plt.grid(alpha=0.3)\n",
    "plt.show()"
   ]
  },
  {
   "cell_type": "markdown",
   "id": "a3165a24",
   "metadata": {},
   "source": [
    "LOGISTIC REGRESSION- EVALUATION AND CROSS-VALIDATION"
   ]
  },
  {
   "cell_type": "code",
   "execution_count": 89,
   "id": "58766f17",
   "metadata": {},
   "outputs": [
    {
     "data": {
      "text/plain": [
       "satisfaction                              1.000000\n",
       "online_boarding                           0.550152\n",
       "class                                     0.492967\n",
       "type_of_travel                            0.449314\n",
       "in_flight_entertainment                   0.400665\n",
       "seat_comfort                              0.363986\n",
       "on_board_service                          0.328122\n",
       "leg_room_service                          0.317202\n",
       "cleanliness                               0.306456\n",
       "in_flight_wifi_service                    0.286471\n",
       "baggage_handling                          0.271190\n",
       "in_flight_service                         0.265880\n",
       "flight_distance_log                       0.255021\n",
       "check_in_service                          0.236024\n",
       "food_and_drink                            0.209802\n",
       "customer_type                             0.189022\n",
       "ease_of_online_booking                    0.173773\n",
       "age_zscore                                0.145128\n",
       "arrival_delay_cut                         0.100194\n",
       "departure_delay_cut                       0.068896\n",
       "departure_and_arrival_time_convenience    0.050276\n",
       "gender                                    0.012514\n",
       "gate_location                             0.001643\n",
       "Name: satisfaction, dtype: float64"
      ]
     },
     "execution_count": 89,
     "metadata": {},
     "output_type": "execute_result"
    }
   ],
   "source": [
    "#Let's select the features basing on correlation value (17 out of 22)\n",
    "feature_selection_with_corr = (df_train.corr(method=\"spearman\")[\"satisfaction\"]\n",
    "  .apply(np.abs)\n",
    "  .sort_values(ascending=False)\n",
    " )\n",
    "\n",
    "feature_selection_with_corr"
   ]
  },
  {
   "cell_type": "code",
   "execution_count": 90,
   "id": "e84b2443",
   "metadata": {},
   "outputs": [],
   "source": [
    "#Here are 17 variables that we will include in our model, basing their impact on correlation with target\n",
    "features = ['customer_type', 'type_of_travel', 'class', 'ease_of_online_booking',\n",
    "       'check_in_service', 'online_boarding',\n",
    "       'on_board_service', 'seat_comfort', 'leg_room_service', 'cleanliness',\n",
    "       'food_and_drink', 'in_flight_service', 'in_flight_wifi_service',\n",
    "       'in_flight_entertainment', 'baggage_handling', 'flight_distance_log', 'age_zscore']"
   ]
  },
  {
   "cell_type": "code",
   "execution_count": 91,
   "id": "98931c7d",
   "metadata": {},
   "outputs": [
    {
     "name": "stderr",
     "output_type": "stream",
     "text": [
      "C:\\Users\\mbuda\\anaconda3\\lib\\site-packages\\sklearn\\utils\\validation.py:1143: DataConversionWarning: A column-vector y was passed when a 1d array was expected. Please change the shape of y to (n_samples, ), for example using ravel().\n",
      "  y = column_or_1d(y, warn=True)\n"
     ]
    },
    {
     "name": "stdout",
     "output_type": "stream",
     "text": [
      "Train Precision: 0.8663732343718535 Validation Precision: 0.8709602418042316\n"
     ]
    },
    {
     "name": "stderr",
     "output_type": "stream",
     "text": [
      "C:\\Users\\mbuda\\anaconda3\\lib\\site-packages\\sklearn\\utils\\validation.py:1143: DataConversionWarning: A column-vector y was passed when a 1d array was expected. Please change the shape of y to (n_samples, ), for example using ravel().\n",
      "  y = column_or_1d(y, warn=True)\n"
     ]
    },
    {
     "name": "stdout",
     "output_type": "stream",
     "text": [
      "Train Precision: 0.8676321799207932 Validation Precision: 0.8684089867033471\n"
     ]
    },
    {
     "name": "stderr",
     "output_type": "stream",
     "text": [
      "C:\\Users\\mbuda\\anaconda3\\lib\\site-packages\\sklearn\\utils\\validation.py:1143: DataConversionWarning: A column-vector y was passed when a 1d array was expected. Please change the shape of y to (n_samples, ), for example using ravel().\n",
      "  y = column_or_1d(y, warn=True)\n"
     ]
    },
    {
     "name": "stdout",
     "output_type": "stream",
     "text": [
      "Train Precision: 0.8678425504977845 Validation Precision: 0.86266589728794\n"
     ]
    },
    {
     "name": "stderr",
     "output_type": "stream",
     "text": [
      "C:\\Users\\mbuda\\anaconda3\\lib\\site-packages\\sklearn\\utils\\validation.py:1143: DataConversionWarning: A column-vector y was passed when a 1d array was expected. Please change the shape of y to (n_samples, ), for example using ravel().\n",
      "  y = column_or_1d(y, warn=True)\n"
     ]
    },
    {
     "name": "stdout",
     "output_type": "stream",
     "text": [
      "Train Precision: 0.8664903403863845 Validation Precision: 0.8684912443465151\n"
     ]
    },
    {
     "name": "stderr",
     "output_type": "stream",
     "text": [
      "C:\\Users\\mbuda\\anaconda3\\lib\\site-packages\\sklearn\\utils\\validation.py:1143: DataConversionWarning: A column-vector y was passed when a 1d array was expected. Please change the shape of y to (n_samples, ), for example using ravel().\n",
      "  y = column_or_1d(y, warn=True)\n"
     ]
    },
    {
     "name": "stdout",
     "output_type": "stream",
     "text": [
      "Train Precision: 0.866737801361172 Validation Precision: 0.8654810761513908\n",
      "avg Train Precision: 0.8670152213075975 avg Validation Precision 0.867201489258685\n"
     ]
    }
   ],
   "source": [
    "#Standard K-Folds cross-validation\n",
    "train_prec_list = list()\n",
    "val_prec_list = list()\n",
    "\n",
    "kf = KFold(n_splits=5, shuffle=False, random_state=None)\n",
    "for train_index, val_index in kf.split(df_train.index.values):\n",
    "    reg = LogisticRegression(fit_intercept=True)\n",
    "    reg.fit(\n",
    "        X=df_train[features].iloc[train_index],\n",
    "        y=df_train[[\"satisfaction\"]].iloc[train_index],\n",
    "    )\n",
    "    pred_train = reg.predict(df_train[features].iloc[train_index]).ravel()\n",
    "    pred_val = reg.predict(df_train[features].iloc[val_index]).ravel()\n",
    "    train_prec = scoring_wrapper(\n",
    "        df_train[[\"satisfaction\"]].iloc[train_index], pred_train\n",
    "    ).get(\"precision\")\n",
    "    val_prec = scoring_wrapper(df_train[[\"satisfaction\"]].iloc[val_index], pred_val).get(\n",
    "        \"precision\"\n",
    "    )\n",
    "    train_prec_list.append(train_prec)\n",
    "    val_prec_list.append(val_prec)\n",
    "    print(\n",
    "        \"Train Precision:\",\n",
    "        train_prec,\n",
    "        \"Validation Precision:\",\n",
    "        val_prec,\n",
    "    )\n",
    "\n",
    "print(\n",
    "    \"avg Train Precision:\", np.mean(train_prec_list), \"avg Validation Precision\", np.mean(val_prec_list)\n",
    ")\n",
    "#Average Precision is higher than the precision level for regression with 17 variables (=0.866989)"
   ]
  },
  {
   "cell_type": "code",
   "execution_count": 92,
   "id": "025e60c3",
   "metadata": {},
   "outputs": [
    {
     "name": "stderr",
     "output_type": "stream",
     "text": [
      "C:\\Users\\mbuda\\anaconda3\\lib\\site-packages\\sklearn\\utils\\validation.py:1143: DataConversionWarning: A column-vector y was passed when a 1d array was expected. Please change the shape of y to (n_samples, ), for example using ravel().\n",
      "  y = column_or_1d(y, warn=True)\n"
     ]
    },
    {
     "name": "stdout",
     "output_type": "stream",
     "text": [
      "Train Precision: 0.867588781223634 Valid Recall: 0.8618836176676794\n"
     ]
    },
    {
     "name": "stderr",
     "output_type": "stream",
     "text": [
      "C:\\Users\\mbuda\\anaconda3\\lib\\site-packages\\sklearn\\utils\\validation.py:1143: DataConversionWarning: A column-vector y was passed when a 1d array was expected. Please change the shape of y to (n_samples, ), for example using ravel().\n",
      "  y = column_or_1d(y, warn=True)\n",
      "C:\\Users\\mbuda\\anaconda3\\lib\\site-packages\\sklearn\\linear_model\\_logistic.py:458: ConvergenceWarning: lbfgs failed to converge (status=1):\n",
      "STOP: TOTAL NO. of ITERATIONS REACHED LIMIT.\n",
      "\n",
      "Increase the number of iterations (max_iter) or scale the data as shown in:\n",
      "    https://scikit-learn.org/stable/modules/preprocessing.html\n",
      "Please also refer to the documentation for alternative solver options:\n",
      "    https://scikit-learn.org/stable/modules/linear_model.html#logistic-regression\n",
      "  n_iter_i = _check_optimize_result(\n"
     ]
    },
    {
     "name": "stdout",
     "output_type": "stream",
     "text": [
      "Train Precision: 0.86724049331963 Valid Recall: 0.8663822142375927\n"
     ]
    },
    {
     "name": "stderr",
     "output_type": "stream",
     "text": [
      "C:\\Users\\mbuda\\anaconda3\\lib\\site-packages\\sklearn\\utils\\validation.py:1143: DataConversionWarning: A column-vector y was passed when a 1d array was expected. Please change the shape of y to (n_samples, ), for example using ravel().\n",
      "  y = column_or_1d(y, warn=True)\n"
     ]
    },
    {
     "name": "stdout",
     "output_type": "stream",
     "text": [
      "Train Precision: 0.8675637575291555 Valid Recall: 0.8645592985694509\n"
     ]
    },
    {
     "name": "stderr",
     "output_type": "stream",
     "text": [
      "C:\\Users\\mbuda\\anaconda3\\lib\\site-packages\\sklearn\\utils\\validation.py:1143: DataConversionWarning: A column-vector y was passed when a 1d array was expected. Please change the shape of y to (n_samples, ), for example using ravel().\n",
      "  y = column_or_1d(y, warn=True)\n"
     ]
    },
    {
     "name": "stdout",
     "output_type": "stream",
     "text": [
      "Train Precision: 0.8668084779210128 Valid Recall: 0.8700616579127655\n"
     ]
    },
    {
     "name": "stderr",
     "output_type": "stream",
     "text": [
      "C:\\Users\\mbuda\\anaconda3\\lib\\site-packages\\sklearn\\utils\\validation.py:1143: DataConversionWarning: A column-vector y was passed when a 1d array was expected. Please change the shape of y to (n_samples, ), for example using ravel().\n",
      "  y = column_or_1d(y, warn=True)\n"
     ]
    },
    {
     "name": "stdout",
     "output_type": "stream",
     "text": [
      "Train Precision: 0.8668114460909555 Valid Recall: 0.863204266172038\n"
     ]
    },
    {
     "name": "stderr",
     "output_type": "stream",
     "text": [
      "C:\\Users\\mbuda\\anaconda3\\lib\\site-packages\\sklearn\\utils\\validation.py:1143: DataConversionWarning: A column-vector y was passed when a 1d array was expected. Please change the shape of y to (n_samples, ), for example using ravel().\n",
      "  y = column_or_1d(y, warn=True)\n"
     ]
    },
    {
     "name": "stdout",
     "output_type": "stream",
     "text": [
      "Train Precision: 0.8665694028513655 Valid Recall: 0.8726975985078107\n"
     ]
    },
    {
     "name": "stderr",
     "output_type": "stream",
     "text": [
      "C:\\Users\\mbuda\\anaconda3\\lib\\site-packages\\sklearn\\utils\\validation.py:1143: DataConversionWarning: A column-vector y was passed when a 1d array was expected. Please change the shape of y to (n_samples, ), for example using ravel().\n",
      "  y = column_or_1d(y, warn=True)\n",
      "C:\\Users\\mbuda\\anaconda3\\lib\\site-packages\\sklearn\\linear_model\\_logistic.py:458: ConvergenceWarning: lbfgs failed to converge (status=1):\n",
      "STOP: TOTAL NO. of ITERATIONS REACHED LIMIT.\n",
      "\n",
      "Increase the number of iterations (max_iter) or scale the data as shown in:\n",
      "    https://scikit-learn.org/stable/modules/preprocessing.html\n",
      "Please also refer to the documentation for alternative solver options:\n",
      "    https://scikit-learn.org/stable/modules/linear_model.html#logistic-regression\n",
      "  n_iter_i = _check_optimize_result(\n"
     ]
    },
    {
     "name": "stdout",
     "output_type": "stream",
     "text": [
      "Train Precision: 0.8663933376041 Valid Recall: 0.8725199543899658\n"
     ]
    },
    {
     "name": "stderr",
     "output_type": "stream",
     "text": [
      "C:\\Users\\mbuda\\anaconda3\\lib\\site-packages\\sklearn\\utils\\validation.py:1143: DataConversionWarning: A column-vector y was passed when a 1d array was expected. Please change the shape of y to (n_samples, ), for example using ravel().\n",
      "  y = column_or_1d(y, warn=True)\n"
     ]
    },
    {
     "name": "stdout",
     "output_type": "stream",
     "text": [
      "Train Precision: 0.866724560686555 Valid Recall: 0.8667913063799954\n"
     ]
    },
    {
     "name": "stderr",
     "output_type": "stream",
     "text": [
      "C:\\Users\\mbuda\\anaconda3\\lib\\site-packages\\sklearn\\utils\\validation.py:1143: DataConversionWarning: A column-vector y was passed when a 1d array was expected. Please change the shape of y to (n_samples, ), for example using ravel().\n",
      "  y = column_or_1d(y, warn=True)\n"
     ]
    },
    {
     "name": "stdout",
     "output_type": "stream",
     "text": [
      "Train Precision: 0.8674982108168899 Valid Recall: 0.8611176057984569\n"
     ]
    },
    {
     "name": "stderr",
     "output_type": "stream",
     "text": [
      "C:\\Users\\mbuda\\anaconda3\\lib\\site-packages\\sklearn\\utils\\validation.py:1143: DataConversionWarning: A column-vector y was passed when a 1d array was expected. Please change the shape of y to (n_samples, ), for example using ravel().\n",
      "  y = column_or_1d(y, warn=True)\n"
     ]
    },
    {
     "name": "stdout",
     "output_type": "stream",
     "text": [
      "Train Precision: 0.8670690983817108 Valid Recall: 0.8713570127504554\n",
      "avg Train Precision: 0.867026756642501 avg Val Precision 0.867057453238621\n"
     ]
    }
   ],
   "source": [
    "#Change of K-Folds parameters\n",
    "train_prec_list = list()\n",
    "val_prec_list = list()\n",
    "\n",
    "kf = KFold(n_splits=10, shuffle=True, random_state=123)\n",
    "for train_index, val_index in kf.split(df_train.index.values):\n",
    "    reg = LogisticRegression(fit_intercept=True)\n",
    "    reg.fit(\n",
    "        X=df_train[features].iloc[train_index],\n",
    "        y=df_train[[\"satisfaction\"]].iloc[train_index],\n",
    "    )\n",
    "    pred_train = reg.predict(df_train[features].iloc[train_index]).ravel()\n",
    "    pred_val = reg.predict(df_train[features].iloc[val_index]).ravel()\n",
    "    train_prec = scoring_wrapper(\n",
    "        df_train[[\"satisfaction\"]].iloc[train_index], pred_train\n",
    "    ).get(\"precision\")\n",
    "    val_prec = scoring_wrapper(df_train[[\"satisfaction\"]].iloc[val_index], pred_val).get(\n",
    "        \"precision\"\n",
    "    )\n",
    "    train_prec_list.append(train_prec)\n",
    "    val_prec_list.append(val_prec)\n",
    "    print(\n",
    "        \"Train Precision:\",\n",
    "        train_prec,\n",
    "        \"Valid Recall:\",\n",
    "        val_prec,\n",
    "    )\n",
    "\n",
    "print(\n",
    "    \"avg Train Precision:\", np.mean(train_prec_list), \"avg Val Precision\", np.mean(val_prec_list)\n",
    ") #even higher train Precision, but drop in validation Precision"
   ]
  },
  {
   "cell_type": "code",
   "execution_count": 93,
   "id": "3c8a75ef",
   "metadata": {},
   "outputs": [
    {
     "data": {
      "text/plain": [
       "array([0.8681116 , 0.87316048, 0.86840302, 0.86461467, 0.86757255,\n",
       "       0.86040609, 0.87328528, 0.86558891, 0.86532295, 0.86554239])"
      ]
     },
     "execution_count": 93,
     "metadata": {},
     "output_type": "execute_result"
    }
   ],
   "source": [
    "# Let's use scikit-learn ready-made function: cross_val_score\n",
    "reg = LogisticRegression(fit_intercept=True)\n",
    "scores = cross_val_score(estimator=reg,\n",
    "                         X=df_train[features],\n",
    "                         y=df_train[[\"satisfaction\"]],\n",
    "                         scoring=\"precision\", \n",
    "                         cv=10,\n",
    "                         n_jobs=-1\n",
    "                         )\n",
    "scores"
   ]
  },
  {
   "cell_type": "code",
   "execution_count": 94,
   "id": "62adb30f",
   "metadata": {},
   "outputs": [
    {
     "data": {
      "text/plain": [
       "0.8672007936723072"
      ]
     },
     "execution_count": 94,
     "metadata": {},
     "output_type": "execute_result"
    }
   ],
   "source": [
    "import statistics as s\n",
    "s.mean(scores)"
   ]
  },
  {
   "cell_type": "code",
   "execution_count": 95,
   "id": "a0fdcdec",
   "metadata": {},
   "outputs": [
    {
     "data": {
      "text/plain": [
       "array([0.86440678, 0.87231121, 0.86711763, 0.86519692, 0.86739055,\n",
       "       0.86369383, 0.87288623, 0.86876282, 0.86716937, 0.86416916,\n",
       "       0.86116607, 0.87008923, 0.8721709 , 0.86644579, 0.8642596 ,\n",
       "       0.87349609, 0.86911542, 0.86925353, 0.86538908, 0.86708788])"
      ]
     },
     "execution_count": 95,
     "metadata": {},
     "output_type": "execute_result"
    }
   ],
   "source": [
    "#using ShuffleSplit\n",
    "ss = ShuffleSplit(n_splits=20, test_size=0.2, random_state=123)\n",
    "reg = LogisticRegression(fit_intercept=True)\n",
    "scores = cross_val_score(estimator=reg,\n",
    "                         X=df_train[features],\n",
    "                         y=df_train[[\"satisfaction\"]],\n",
    "                         scoring=\"precision\", \n",
    "                         cv=ss,\n",
    "                         n_jobs=-1\n",
    "                         )\n",
    "scores"
   ]
  },
  {
   "cell_type": "code",
   "execution_count": 96,
   "id": "d59c0577",
   "metadata": {},
   "outputs": [
    {
     "data": {
      "text/plain": [
       "0.8675789047370825"
      ]
     },
     "execution_count": 96,
     "metadata": {},
     "output_type": "execute_result"
    }
   ],
   "source": [
    "s.mean(scores)"
   ]
  },
  {
   "cell_type": "code",
   "execution_count": 97,
   "id": "eec4f1c8",
   "metadata": {},
   "outputs": [
    {
     "name": "stdout",
     "output_type": "stream",
     "text": [
      "{'fit_time': array([2.02088475, 1.93841815, 1.62688947, 1.44945192, 1.79764104,\n",
      "       1.67151308, 2.18909907, 2.17673016, 1.08614111, 1.1628592 ]), 'score_time': array([0.10515976, 0.11301541, 0.07595587, 0.08120608, 0.08596873,\n",
      "       0.07704043, 0.07988572, 0.07662606, 0.03186631, 0.02166605]), 'test_recall': array([0.83444149, 0.82845745, 0.84242021, 0.82801418, 0.83506983,\n",
      "       0.82664598, 0.83263135, 0.8308579 , 0.83750831, 0.84194192]), 'train_recall': array([0.83382592, 0.83439239, 0.83296389, 0.83387518, 0.83363298,\n",
      "       0.83466739, 0.83375613, 0.83437184, 0.83387927, 0.83326355]), 'test_precision': array([0.8681116 , 0.87316048, 0.86840302, 0.86461467, 0.86757255,\n",
      "       0.86040609, 0.87328528, 0.86558891, 0.86532295, 0.86554239]), 'train_precision': array([0.86700983, 0.86646717, 0.86689052, 0.86746093, 0.86709704,\n",
      "       0.86777283, 0.86635956, 0.8671547 , 0.86699785, 0.86684602]), 'test_brier': array([-0.09727761, -0.09766586, -0.09572402, -0.1002718 , -0.09626197,\n",
      "       -0.10162992, -0.0959574 , -0.10017531, -0.09636041, -0.09526225]), 'train_brier': array([-0.09765973, -0.09749854, -0.09792086, -0.0972178 , -0.0977931 ,\n",
      "       -0.097082  , -0.09781469, -0.0972717 , -0.09779421, -0.09791638]), 'test_roc': array([0.92566379, 0.92222185, 0.92977156, 0.92018099, 0.92669919,\n",
      "       0.91965085, 0.92647879, 0.9224376 , 0.92782169, 0.92923307]), 'train_roc': array([0.92504243, 0.9254909 , 0.92452733, 0.92566093, 0.92491248,\n",
      "       0.92574143, 0.92494205, 0.92543165, 0.92481176, 0.92466004])}\n"
     ]
    },
    {
     "data": {
      "text/html": [
       "<div>\n",
       "<style scoped>\n",
       "    .dataframe tbody tr th:only-of-type {\n",
       "        vertical-align: middle;\n",
       "    }\n",
       "\n",
       "    .dataframe tbody tr th {\n",
       "        vertical-align: top;\n",
       "    }\n",
       "\n",
       "    .dataframe thead th {\n",
       "        text-align: right;\n",
       "    }\n",
       "</style>\n",
       "<table border=\"1\" class=\"dataframe\">\n",
       "  <thead>\n",
       "    <tr style=\"text-align: right;\">\n",
       "      <th></th>\n",
       "      <th>fit_time</th>\n",
       "      <th>score_time</th>\n",
       "      <th>test_recall</th>\n",
       "      <th>train_recall</th>\n",
       "      <th>test_precision</th>\n",
       "      <th>train_precision</th>\n",
       "      <th>test_brier</th>\n",
       "      <th>train_brier</th>\n",
       "      <th>test_roc</th>\n",
       "      <th>train_roc</th>\n",
       "    </tr>\n",
       "  </thead>\n",
       "  <tbody>\n",
       "    <tr>\n",
       "      <th>0</th>\n",
       "      <td>2.020885</td>\n",
       "      <td>0.105160</td>\n",
       "      <td>0.834441</td>\n",
       "      <td>0.833826</td>\n",
       "      <td>0.868112</td>\n",
       "      <td>0.867010</td>\n",
       "      <td>-0.097278</td>\n",
       "      <td>-0.097660</td>\n",
       "      <td>0.925664</td>\n",
       "      <td>0.925042</td>\n",
       "    </tr>\n",
       "    <tr>\n",
       "      <th>1</th>\n",
       "      <td>1.938418</td>\n",
       "      <td>0.113015</td>\n",
       "      <td>0.828457</td>\n",
       "      <td>0.834392</td>\n",
       "      <td>0.873160</td>\n",
       "      <td>0.866467</td>\n",
       "      <td>-0.097666</td>\n",
       "      <td>-0.097499</td>\n",
       "      <td>0.922222</td>\n",
       "      <td>0.925491</td>\n",
       "    </tr>\n",
       "    <tr>\n",
       "      <th>2</th>\n",
       "      <td>1.626889</td>\n",
       "      <td>0.075956</td>\n",
       "      <td>0.842420</td>\n",
       "      <td>0.832964</td>\n",
       "      <td>0.868403</td>\n",
       "      <td>0.866891</td>\n",
       "      <td>-0.095724</td>\n",
       "      <td>-0.097921</td>\n",
       "      <td>0.929772</td>\n",
       "      <td>0.924527</td>\n",
       "    </tr>\n",
       "    <tr>\n",
       "      <th>3</th>\n",
       "      <td>1.449452</td>\n",
       "      <td>0.081206</td>\n",
       "      <td>0.828014</td>\n",
       "      <td>0.833875</td>\n",
       "      <td>0.864615</td>\n",
       "      <td>0.867461</td>\n",
       "      <td>-0.100272</td>\n",
       "      <td>-0.097218</td>\n",
       "      <td>0.920181</td>\n",
       "      <td>0.925661</td>\n",
       "    </tr>\n",
       "    <tr>\n",
       "      <th>4</th>\n",
       "      <td>1.797641</td>\n",
       "      <td>0.085969</td>\n",
       "      <td>0.835070</td>\n",
       "      <td>0.833633</td>\n",
       "      <td>0.867573</td>\n",
       "      <td>0.867097</td>\n",
       "      <td>-0.096262</td>\n",
       "      <td>-0.097793</td>\n",
       "      <td>0.926699</td>\n",
       "      <td>0.924912</td>\n",
       "    </tr>\n",
       "    <tr>\n",
       "      <th>5</th>\n",
       "      <td>1.671513</td>\n",
       "      <td>0.077040</td>\n",
       "      <td>0.826646</td>\n",
       "      <td>0.834667</td>\n",
       "      <td>0.860406</td>\n",
       "      <td>0.867773</td>\n",
       "      <td>-0.101630</td>\n",
       "      <td>-0.097082</td>\n",
       "      <td>0.919651</td>\n",
       "      <td>0.925741</td>\n",
       "    </tr>\n",
       "    <tr>\n",
       "      <th>6</th>\n",
       "      <td>2.189099</td>\n",
       "      <td>0.079886</td>\n",
       "      <td>0.832631</td>\n",
       "      <td>0.833756</td>\n",
       "      <td>0.873285</td>\n",
       "      <td>0.866360</td>\n",
       "      <td>-0.095957</td>\n",
       "      <td>-0.097815</td>\n",
       "      <td>0.926479</td>\n",
       "      <td>0.924942</td>\n",
       "    </tr>\n",
       "    <tr>\n",
       "      <th>7</th>\n",
       "      <td>2.176730</td>\n",
       "      <td>0.076626</td>\n",
       "      <td>0.830858</td>\n",
       "      <td>0.834372</td>\n",
       "      <td>0.865589</td>\n",
       "      <td>0.867155</td>\n",
       "      <td>-0.100175</td>\n",
       "      <td>-0.097272</td>\n",
       "      <td>0.922438</td>\n",
       "      <td>0.925432</td>\n",
       "    </tr>\n",
       "    <tr>\n",
       "      <th>8</th>\n",
       "      <td>1.086141</td>\n",
       "      <td>0.031866</td>\n",
       "      <td>0.837508</td>\n",
       "      <td>0.833879</td>\n",
       "      <td>0.865323</td>\n",
       "      <td>0.866998</td>\n",
       "      <td>-0.096360</td>\n",
       "      <td>-0.097794</td>\n",
       "      <td>0.927822</td>\n",
       "      <td>0.924812</td>\n",
       "    </tr>\n",
       "    <tr>\n",
       "      <th>9</th>\n",
       "      <td>1.162859</td>\n",
       "      <td>0.021666</td>\n",
       "      <td>0.841942</td>\n",
       "      <td>0.833264</td>\n",
       "      <td>0.865542</td>\n",
       "      <td>0.866846</td>\n",
       "      <td>-0.095262</td>\n",
       "      <td>-0.097916</td>\n",
       "      <td>0.929233</td>\n",
       "      <td>0.924660</td>\n",
       "    </tr>\n",
       "  </tbody>\n",
       "</table>\n",
       "</div>"
      ],
      "text/plain": [
       "   fit_time  score_time  test_recall  train_recall  test_precision  \\\n",
       "0  2.020885    0.105160     0.834441      0.833826        0.868112   \n",
       "1  1.938418    0.113015     0.828457      0.834392        0.873160   \n",
       "2  1.626889    0.075956     0.842420      0.832964        0.868403   \n",
       "3  1.449452    0.081206     0.828014      0.833875        0.864615   \n",
       "4  1.797641    0.085969     0.835070      0.833633        0.867573   \n",
       "5  1.671513    0.077040     0.826646      0.834667        0.860406   \n",
       "6  2.189099    0.079886     0.832631      0.833756        0.873285   \n",
       "7  2.176730    0.076626     0.830858      0.834372        0.865589   \n",
       "8  1.086141    0.031866     0.837508      0.833879        0.865323   \n",
       "9  1.162859    0.021666     0.841942      0.833264        0.865542   \n",
       "\n",
       "   train_precision  test_brier  train_brier  test_roc  train_roc  \n",
       "0         0.867010   -0.097278    -0.097660  0.925664   0.925042  \n",
       "1         0.866467   -0.097666    -0.097499  0.922222   0.925491  \n",
       "2         0.866891   -0.095724    -0.097921  0.929772   0.924527  \n",
       "3         0.867461   -0.100272    -0.097218  0.920181   0.925661  \n",
       "4         0.867097   -0.096262    -0.097793  0.926699   0.924912  \n",
       "5         0.867773   -0.101630    -0.097082  0.919651   0.925741  \n",
       "6         0.866360   -0.095957    -0.097815  0.926479   0.924942  \n",
       "7         0.867155   -0.100175    -0.097272  0.922438   0.925432  \n",
       "8         0.866998   -0.096360    -0.097794  0.927822   0.924812  \n",
       "9         0.866846   -0.095262    -0.097916  0.929233   0.924660  "
      ]
     },
     "metadata": {},
     "output_type": "display_data"
    }
   ],
   "source": [
    "#Now let's use scikit-learn ready-made function: cross_validate, so as to access the model by different metrics\n",
    "scoring = {'recall': 'recall',\n",
    "           'precision': 'precision',\n",
    "           'brier': 'neg_brier_score',\n",
    "           'roc': 'roc_auc'\n",
    "          }\n",
    "reg = LogisticRegression(fit_intercept=True)\n",
    "scores = cross_validate(estimator=reg,\n",
    "                         X=df_train[features],\n",
    "                         y=df_train[[\"satisfaction\"]],\n",
    "                         scoring=scoring,\n",
    "                         cv=10,\n",
    "                         n_jobs=-1,\n",
    "                         return_train_score=True)\n",
    "sorted(scores.keys())\n",
    "print(scores)\n",
    "display(pd.DataFrame(scores))"
   ]
  },
  {
   "cell_type": "code",
   "execution_count": 98,
   "id": "4cf0e715",
   "metadata": {},
   "outputs": [
    {
     "name": "stdout",
     "output_type": "stream",
     "text": [
      "avg Train Precision: 0.8670056458749235 avg Val Precision 0.8672007936723072\n"
     ]
    }
   ],
   "source": [
    "print(\n",
    "    \"avg Train Precision:\", np.mean(pd.DataFrame(scores).train_precision), \"avg Val Precision\", np.mean(pd.DataFrame(scores).test_precision)\n",
    ") "
   ]
  },
  {
   "cell_type": "markdown",
   "id": "daf11d09",
   "metadata": {},
   "source": [
    "LOGISTIC REGRESSION - REGULARIZATION"
   ]
  },
  {
   "cell_type": "markdown",
   "id": "e5f9cf2a",
   "metadata": {},
   "source": [
    "1) Lasso (L1)"
   ]
  },
  {
   "cell_type": "code",
   "execution_count": 99,
   "id": "5cd023b1",
   "metadata": {},
   "outputs": [
    {
     "data": {
      "text/html": [
       "<style>#sk-container-id-6 {color: black;background-color: white;}#sk-container-id-6 pre{padding: 0;}#sk-container-id-6 div.sk-toggleable {background-color: white;}#sk-container-id-6 label.sk-toggleable__label {cursor: pointer;display: block;width: 100%;margin-bottom: 0;padding: 0.3em;box-sizing: border-box;text-align: center;}#sk-container-id-6 label.sk-toggleable__label-arrow:before {content: \"▸\";float: left;margin-right: 0.25em;color: #696969;}#sk-container-id-6 label.sk-toggleable__label-arrow:hover:before {color: black;}#sk-container-id-6 div.sk-estimator:hover label.sk-toggleable__label-arrow:before {color: black;}#sk-container-id-6 div.sk-toggleable__content {max-height: 0;max-width: 0;overflow: hidden;text-align: left;background-color: #f0f8ff;}#sk-container-id-6 div.sk-toggleable__content pre {margin: 0.2em;color: black;border-radius: 0.25em;background-color: #f0f8ff;}#sk-container-id-6 input.sk-toggleable__control:checked~div.sk-toggleable__content {max-height: 200px;max-width: 100%;overflow: auto;}#sk-container-id-6 input.sk-toggleable__control:checked~label.sk-toggleable__label-arrow:before {content: \"▾\";}#sk-container-id-6 div.sk-estimator input.sk-toggleable__control:checked~label.sk-toggleable__label {background-color: #d4ebff;}#sk-container-id-6 div.sk-label input.sk-toggleable__control:checked~label.sk-toggleable__label {background-color: #d4ebff;}#sk-container-id-6 input.sk-hidden--visually {border: 0;clip: rect(1px 1px 1px 1px);clip: rect(1px, 1px, 1px, 1px);height: 1px;margin: -1px;overflow: hidden;padding: 0;position: absolute;width: 1px;}#sk-container-id-6 div.sk-estimator {font-family: monospace;background-color: #f0f8ff;border: 1px dotted black;border-radius: 0.25em;box-sizing: border-box;margin-bottom: 0.5em;}#sk-container-id-6 div.sk-estimator:hover {background-color: #d4ebff;}#sk-container-id-6 div.sk-parallel-item::after {content: \"\";width: 100%;border-bottom: 1px solid gray;flex-grow: 1;}#sk-container-id-6 div.sk-label:hover label.sk-toggleable__label {background-color: #d4ebff;}#sk-container-id-6 div.sk-serial::before {content: \"\";position: absolute;border-left: 1px solid gray;box-sizing: border-box;top: 0;bottom: 0;left: 50%;z-index: 0;}#sk-container-id-6 div.sk-serial {display: flex;flex-direction: column;align-items: center;background-color: white;padding-right: 0.2em;padding-left: 0.2em;position: relative;}#sk-container-id-6 div.sk-item {position: relative;z-index: 1;}#sk-container-id-6 div.sk-parallel {display: flex;align-items: stretch;justify-content: center;background-color: white;position: relative;}#sk-container-id-6 div.sk-item::before, #sk-container-id-6 div.sk-parallel-item::before {content: \"\";position: absolute;border-left: 1px solid gray;box-sizing: border-box;top: 0;bottom: 0;left: 50%;z-index: -1;}#sk-container-id-6 div.sk-parallel-item {display: flex;flex-direction: column;z-index: 1;position: relative;background-color: white;}#sk-container-id-6 div.sk-parallel-item:first-child::after {align-self: flex-end;width: 50%;}#sk-container-id-6 div.sk-parallel-item:last-child::after {align-self: flex-start;width: 50%;}#sk-container-id-6 div.sk-parallel-item:only-child::after {width: 0;}#sk-container-id-6 div.sk-dashed-wrapped {border: 1px dashed gray;margin: 0 0.4em 0.5em 0.4em;box-sizing: border-box;padding-bottom: 0.4em;background-color: white;}#sk-container-id-6 div.sk-label label {font-family: monospace;font-weight: bold;display: inline-block;line-height: 1.2em;}#sk-container-id-6 div.sk-label-container {text-align: center;}#sk-container-id-6 div.sk-container {/* jupyter's `normalize.less` sets `[hidden] { display: none; }` but bootstrap.min.css set `[hidden] { display: none !important; }` so we also need the `!important` here to be able to override the default hidden behavior on the sphinx rendered scikit-learn.org. See: https://github.com/scikit-learn/scikit-learn/issues/21755 */display: inline-block !important;position: relative;}#sk-container-id-6 div.sk-text-repr-fallback {display: none;}</style><div id=\"sk-container-id-6\" class=\"sk-top-container\"><div class=\"sk-text-repr-fallback\"><pre>LogisticRegression(penalty=&#x27;l1&#x27;, random_state=123, solver=&#x27;liblinear&#x27;)</pre><b>In a Jupyter environment, please rerun this cell to show the HTML representation or trust the notebook. <br />On GitHub, the HTML representation is unable to render, please try loading this page with nbviewer.org.</b></div><div class=\"sk-container\" hidden><div class=\"sk-item\"><div class=\"sk-estimator sk-toggleable\"><input class=\"sk-toggleable__control sk-hidden--visually\" id=\"sk-estimator-id-6\" type=\"checkbox\" checked><label for=\"sk-estimator-id-6\" class=\"sk-toggleable__label sk-toggleable__label-arrow\">LogisticRegression</label><div class=\"sk-toggleable__content\"><pre>LogisticRegression(penalty=&#x27;l1&#x27;, random_state=123, solver=&#x27;liblinear&#x27;)</pre></div></div></div></div></div>"
      ],
      "text/plain": [
       "LogisticRegression(penalty='l1', random_state=123, solver='liblinear')"
      ]
     },
     "execution_count": 99,
     "metadata": {},
     "output_type": "execute_result"
    }
   ],
   "source": [
    "#Basic Lasso regularisation\n",
    "lasso = LogisticRegression(penalty='l1', solver='liblinear', C=1.0, random_state=123) \n",
    "lasso.fit(x_train_scaled, y_train.Satisfaction)"
   ]
  },
  {
   "cell_type": "code",
   "execution_count": 100,
   "id": "941cc40e",
   "metadata": {},
   "outputs": [
    {
     "name": "stdout",
     "output_type": "stream",
     "text": [
      "Accuracy: 0.87361411\n",
      "Classification Report:\n",
      "              precision    recall  f1-score   support\n",
      "\n",
      "           0       0.87      0.91      0.89     14662\n",
      "           1       0.87      0.83      0.85     11314\n",
      "\n",
      "    accuracy                           0.87     25976\n",
      "   macro avg       0.87      0.87      0.87     25976\n",
      "weighted avg       0.87      0.87      0.87     25976\n",
      "\n"
     ]
    }
   ],
   "source": [
    "y_pred_lasso = lasso.predict(x_test_scaled)\n",
    "accuracy = accuracy_score(y_test, y_pred)\n",
    "print(f\"Accuracy: {accuracy:.8f}\") #drop in accuracy level\n",
    "print(\"Classification Report:\")\n",
    "print(classification_report(y_test, y_pred))"
   ]
  },
  {
   "cell_type": "code",
   "execution_count": 101,
   "id": "bca4e8e2",
   "metadata": {},
   "outputs": [
    {
     "name": "stdout",
     "output_type": "stream",
     "text": [
      "Tuned Lasso Regularisation Accuracy: 0.87175786\n",
      "\n",
      "Logistic Regression Grid Search Results:\n",
      "Best parameters: [1.3912797]\n",
      "Best cross-validation accuracy: 0.87459548\n"
     ]
    }
   ],
   "source": [
    "#Hyperparameter tuning \n",
    "lasso_alpha= np.logspace(-4, 0, 10)\n",
    "lasso_C = 1 / (2* lasso_alpha) #conversion for LogisticRegression, source: https://scikit-learn.org/1.5/modules/generated/sklearn.linear_model.Lasso.html\n",
    "lasso_grid_search = LogisticRegressionCV(Cs=lasso_C, random_state=123, penalty='l1', solver='liblinear', cv=10, scoring='accuracy')\n",
    "lasso_grid_search.fit(x_train_scaled, y_train.Satisfaction)\n",
    "lasso_grid_val_pred = lasso_grid_search.predict(x_val_scaled)\n",
    "\n",
    "print(f\"Tuned Lasso Regularisation Accuracy: {accuracy_score(y_val.Satisfaction, lasso_grid_val_pred):.8f}\") #slight drop in accuracy\n",
    "print(\"\\nLogistic Regression Grid Search Results:\")\n",
    "print(f\"Best parameters: {lasso_grid_search.C_}\") #high value of C = low value of alpha: insignificant impact of Lasso regularisation\n",
    "print(f\"Best cross-validation accuracy: {lasso_grid_search.score(x_train_scaled, y_train.Satisfaction):.8f}\")"
   ]
  },
  {
   "cell_type": "code",
   "execution_count": 102,
   "id": "be4c3da8",
   "metadata": {},
   "outputs": [
    {
     "name": "stdout",
     "output_type": "stream",
     "text": [
      "{'fit_time': array([40.47375894, 43.80278349, 43.25909352, 44.07204747, 44.38087678,\n",
      "       38.4848361 , 37.3824439 , 37.80008316, 11.6394105 , 11.25574803]), 'score_time': array([0.17530394, 0.13176441, 0.14065957, 0.09709454, 0.08241916,\n",
      "       0.15313363, 0.1725266 , 0.16659927, 0.03894591, 0.03344131]), 'test_recall': array([0.83444149, 0.82845745, 0.84242021, 0.82801418, 0.83551319,\n",
      "       0.82664598, 0.83307471, 0.83107958, 0.83750831, 0.84194192]), 'train_recall': array([0.83377666, 0.83446628, 0.83298852, 0.83382592, 0.83363298,\n",
      "       0.83469202, 0.83387927, 0.83444573, 0.83395316, 0.83336207]), 'test_precision': array([0.8681116 , 0.87336449, 0.86840302, 0.86461467, 0.86763352,\n",
      "       0.86060466, 0.87334418, 0.86581986, 0.86532295, 0.86534518]), 'train_precision': array([0.86695862, 0.86656606, 0.86678285, 0.86734302, 0.86705262,\n",
      "       0.86773178, 0.86633233, 0.86707614, 0.86698587, 0.86679304]), 'test_brier': array([-0.09728326, -0.09766807, -0.09572951, -0.10027305, -0.09626446,\n",
      "       -0.10163761, -0.09595981, -0.10018045, -0.09636348, -0.09526926]), 'train_brier': array([-0.09766389, -0.09750349, -0.09792502, -0.09722222, -0.09779709,\n",
      "       -0.09708539, -0.09781921, -0.09727583, -0.09779801, -0.09792095]), 'test_roc': array([0.92566262, 0.92223052, 0.92977563, 0.92018185, 0.92670047,\n",
      "       0.91965036, 0.92648312, 0.92243628, 0.92782184, 0.92923854]), 'train_roc': array([0.92504428, 0.92549293, 0.92452913, 0.92566314, 0.92491387,\n",
      "       0.92574385, 0.92494414, 0.92543362, 0.92481295, 0.92466436])}\n"
     ]
    },
    {
     "data": {
      "text/html": [
       "<div>\n",
       "<style scoped>\n",
       "    .dataframe tbody tr th:only-of-type {\n",
       "        vertical-align: middle;\n",
       "    }\n",
       "\n",
       "    .dataframe tbody tr th {\n",
       "        vertical-align: top;\n",
       "    }\n",
       "\n",
       "    .dataframe thead th {\n",
       "        text-align: right;\n",
       "    }\n",
       "</style>\n",
       "<table border=\"1\" class=\"dataframe\">\n",
       "  <thead>\n",
       "    <tr style=\"text-align: right;\">\n",
       "      <th></th>\n",
       "      <th>fit_time</th>\n",
       "      <th>score_time</th>\n",
       "      <th>test_recall</th>\n",
       "      <th>train_recall</th>\n",
       "      <th>test_precision</th>\n",
       "      <th>train_precision</th>\n",
       "      <th>test_brier</th>\n",
       "      <th>train_brier</th>\n",
       "      <th>test_roc</th>\n",
       "      <th>train_roc</th>\n",
       "    </tr>\n",
       "  </thead>\n",
       "  <tbody>\n",
       "    <tr>\n",
       "      <th>0</th>\n",
       "      <td>40.473759</td>\n",
       "      <td>0.175304</td>\n",
       "      <td>0.834441</td>\n",
       "      <td>0.833777</td>\n",
       "      <td>0.868112</td>\n",
       "      <td>0.866959</td>\n",
       "      <td>-0.097283</td>\n",
       "      <td>-0.097664</td>\n",
       "      <td>0.925663</td>\n",
       "      <td>0.925044</td>\n",
       "    </tr>\n",
       "    <tr>\n",
       "      <th>1</th>\n",
       "      <td>43.802783</td>\n",
       "      <td>0.131764</td>\n",
       "      <td>0.828457</td>\n",
       "      <td>0.834466</td>\n",
       "      <td>0.873364</td>\n",
       "      <td>0.866566</td>\n",
       "      <td>-0.097668</td>\n",
       "      <td>-0.097503</td>\n",
       "      <td>0.922231</td>\n",
       "      <td>0.925493</td>\n",
       "    </tr>\n",
       "    <tr>\n",
       "      <th>2</th>\n",
       "      <td>43.259094</td>\n",
       "      <td>0.140660</td>\n",
       "      <td>0.842420</td>\n",
       "      <td>0.832989</td>\n",
       "      <td>0.868403</td>\n",
       "      <td>0.866783</td>\n",
       "      <td>-0.095730</td>\n",
       "      <td>-0.097925</td>\n",
       "      <td>0.929776</td>\n",
       "      <td>0.924529</td>\n",
       "    </tr>\n",
       "    <tr>\n",
       "      <th>3</th>\n",
       "      <td>44.072047</td>\n",
       "      <td>0.097095</td>\n",
       "      <td>0.828014</td>\n",
       "      <td>0.833826</td>\n",
       "      <td>0.864615</td>\n",
       "      <td>0.867343</td>\n",
       "      <td>-0.100273</td>\n",
       "      <td>-0.097222</td>\n",
       "      <td>0.920182</td>\n",
       "      <td>0.925663</td>\n",
       "    </tr>\n",
       "    <tr>\n",
       "      <th>4</th>\n",
       "      <td>44.380877</td>\n",
       "      <td>0.082419</td>\n",
       "      <td>0.835513</td>\n",
       "      <td>0.833633</td>\n",
       "      <td>0.867634</td>\n",
       "      <td>0.867053</td>\n",
       "      <td>-0.096264</td>\n",
       "      <td>-0.097797</td>\n",
       "      <td>0.926700</td>\n",
       "      <td>0.924914</td>\n",
       "    </tr>\n",
       "    <tr>\n",
       "      <th>5</th>\n",
       "      <td>38.484836</td>\n",
       "      <td>0.153134</td>\n",
       "      <td>0.826646</td>\n",
       "      <td>0.834692</td>\n",
       "      <td>0.860605</td>\n",
       "      <td>0.867732</td>\n",
       "      <td>-0.101638</td>\n",
       "      <td>-0.097085</td>\n",
       "      <td>0.919650</td>\n",
       "      <td>0.925744</td>\n",
       "    </tr>\n",
       "    <tr>\n",
       "      <th>6</th>\n",
       "      <td>37.382444</td>\n",
       "      <td>0.172527</td>\n",
       "      <td>0.833075</td>\n",
       "      <td>0.833879</td>\n",
       "      <td>0.873344</td>\n",
       "      <td>0.866332</td>\n",
       "      <td>-0.095960</td>\n",
       "      <td>-0.097819</td>\n",
       "      <td>0.926483</td>\n",
       "      <td>0.924944</td>\n",
       "    </tr>\n",
       "    <tr>\n",
       "      <th>7</th>\n",
       "      <td>37.800083</td>\n",
       "      <td>0.166599</td>\n",
       "      <td>0.831080</td>\n",
       "      <td>0.834446</td>\n",
       "      <td>0.865820</td>\n",
       "      <td>0.867076</td>\n",
       "      <td>-0.100180</td>\n",
       "      <td>-0.097276</td>\n",
       "      <td>0.922436</td>\n",
       "      <td>0.925434</td>\n",
       "    </tr>\n",
       "    <tr>\n",
       "      <th>8</th>\n",
       "      <td>11.639410</td>\n",
       "      <td>0.038946</td>\n",
       "      <td>0.837508</td>\n",
       "      <td>0.833953</td>\n",
       "      <td>0.865323</td>\n",
       "      <td>0.866986</td>\n",
       "      <td>-0.096363</td>\n",
       "      <td>-0.097798</td>\n",
       "      <td>0.927822</td>\n",
       "      <td>0.924813</td>\n",
       "    </tr>\n",
       "    <tr>\n",
       "      <th>9</th>\n",
       "      <td>11.255748</td>\n",
       "      <td>0.033441</td>\n",
       "      <td>0.841942</td>\n",
       "      <td>0.833362</td>\n",
       "      <td>0.865345</td>\n",
       "      <td>0.866793</td>\n",
       "      <td>-0.095269</td>\n",
       "      <td>-0.097921</td>\n",
       "      <td>0.929239</td>\n",
       "      <td>0.924664</td>\n",
       "    </tr>\n",
       "  </tbody>\n",
       "</table>\n",
       "</div>"
      ],
      "text/plain": [
       "    fit_time  score_time  test_recall  train_recall  test_precision  \\\n",
       "0  40.473759    0.175304     0.834441      0.833777        0.868112   \n",
       "1  43.802783    0.131764     0.828457      0.834466        0.873364   \n",
       "2  43.259094    0.140660     0.842420      0.832989        0.868403   \n",
       "3  44.072047    0.097095     0.828014      0.833826        0.864615   \n",
       "4  44.380877    0.082419     0.835513      0.833633        0.867634   \n",
       "5  38.484836    0.153134     0.826646      0.834692        0.860605   \n",
       "6  37.382444    0.172527     0.833075      0.833879        0.873344   \n",
       "7  37.800083    0.166599     0.831080      0.834446        0.865820   \n",
       "8  11.639410    0.038946     0.837508      0.833953        0.865323   \n",
       "9  11.255748    0.033441     0.841942      0.833362        0.865345   \n",
       "\n",
       "   train_precision  test_brier  train_brier  test_roc  train_roc  \n",
       "0         0.866959   -0.097283    -0.097664  0.925663   0.925044  \n",
       "1         0.866566   -0.097668    -0.097503  0.922231   0.925493  \n",
       "2         0.866783   -0.095730    -0.097925  0.929776   0.924529  \n",
       "3         0.867343   -0.100273    -0.097222  0.920182   0.925663  \n",
       "4         0.867053   -0.096264    -0.097797  0.926700   0.924914  \n",
       "5         0.867732   -0.101638    -0.097085  0.919650   0.925744  \n",
       "6         0.866332   -0.095960    -0.097819  0.926483   0.924944  \n",
       "7         0.867076   -0.100180    -0.097276  0.922436   0.925434  \n",
       "8         0.866986   -0.096363    -0.097798  0.927822   0.924813  \n",
       "9         0.866793   -0.095269    -0.097921  0.929239   0.924664  "
      ]
     },
     "metadata": {},
     "output_type": "display_data"
    }
   ],
   "source": [
    "#Cross-validation\n",
    "scoring = {'recall': 'recall',\n",
    "           'precision': 'precision',\n",
    "           'brier': 'neg_brier_score',\n",
    "           'roc': 'roc_auc'\n",
    "          }\n",
    "scores = cross_validate(estimator=lasso,\n",
    "                         X=df_train[features],\n",
    "                         y=df_train[[\"satisfaction\"]],\n",
    "                         scoring=scoring,\n",
    "                         cv=10,\n",
    "                         n_jobs=-1,\n",
    "                         return_train_score=True)\n",
    "sorted(scores.keys())\n",
    "print(scores)\n",
    "display(pd.DataFrame(scores))"
   ]
  },
  {
   "cell_type": "code",
   "execution_count": 103,
   "id": "de0c0fe8",
   "metadata": {},
   "outputs": [
    {
     "name": "stdout",
     "output_type": "stream",
     "text": [
      "avg Train Precision: 0.866962231014595 avg Val Precision 0.8672564122661589\n"
     ]
    }
   ],
   "source": [
    "print(\n",
    "    \"avg Train Precision:\", np.mean(pd.DataFrame(scores).train_precision), \"avg Val Precision\", np.mean(pd.DataFrame(scores).test_precision)\n",
    ") "
   ]
  },
  {
   "cell_type": "markdown",
   "id": "e1f11514",
   "metadata": {},
   "source": [
    "2) Ridge (L2)"
   ]
  },
  {
   "cell_type": "code",
   "execution_count": 104,
   "id": "b8d64d61",
   "metadata": {},
   "outputs": [
    {
     "data": {
      "text/html": [
       "<style>#sk-container-id-7 {color: black;background-color: white;}#sk-container-id-7 pre{padding: 0;}#sk-container-id-7 div.sk-toggleable {background-color: white;}#sk-container-id-7 label.sk-toggleable__label {cursor: pointer;display: block;width: 100%;margin-bottom: 0;padding: 0.3em;box-sizing: border-box;text-align: center;}#sk-container-id-7 label.sk-toggleable__label-arrow:before {content: \"▸\";float: left;margin-right: 0.25em;color: #696969;}#sk-container-id-7 label.sk-toggleable__label-arrow:hover:before {color: black;}#sk-container-id-7 div.sk-estimator:hover label.sk-toggleable__label-arrow:before {color: black;}#sk-container-id-7 div.sk-toggleable__content {max-height: 0;max-width: 0;overflow: hidden;text-align: left;background-color: #f0f8ff;}#sk-container-id-7 div.sk-toggleable__content pre {margin: 0.2em;color: black;border-radius: 0.25em;background-color: #f0f8ff;}#sk-container-id-7 input.sk-toggleable__control:checked~div.sk-toggleable__content {max-height: 200px;max-width: 100%;overflow: auto;}#sk-container-id-7 input.sk-toggleable__control:checked~label.sk-toggleable__label-arrow:before {content: \"▾\";}#sk-container-id-7 div.sk-estimator input.sk-toggleable__control:checked~label.sk-toggleable__label {background-color: #d4ebff;}#sk-container-id-7 div.sk-label input.sk-toggleable__control:checked~label.sk-toggleable__label {background-color: #d4ebff;}#sk-container-id-7 input.sk-hidden--visually {border: 0;clip: rect(1px 1px 1px 1px);clip: rect(1px, 1px, 1px, 1px);height: 1px;margin: -1px;overflow: hidden;padding: 0;position: absolute;width: 1px;}#sk-container-id-7 div.sk-estimator {font-family: monospace;background-color: #f0f8ff;border: 1px dotted black;border-radius: 0.25em;box-sizing: border-box;margin-bottom: 0.5em;}#sk-container-id-7 div.sk-estimator:hover {background-color: #d4ebff;}#sk-container-id-7 div.sk-parallel-item::after {content: \"\";width: 100%;border-bottom: 1px solid gray;flex-grow: 1;}#sk-container-id-7 div.sk-label:hover label.sk-toggleable__label {background-color: #d4ebff;}#sk-container-id-7 div.sk-serial::before {content: \"\";position: absolute;border-left: 1px solid gray;box-sizing: border-box;top: 0;bottom: 0;left: 50%;z-index: 0;}#sk-container-id-7 div.sk-serial {display: flex;flex-direction: column;align-items: center;background-color: white;padding-right: 0.2em;padding-left: 0.2em;position: relative;}#sk-container-id-7 div.sk-item {position: relative;z-index: 1;}#sk-container-id-7 div.sk-parallel {display: flex;align-items: stretch;justify-content: center;background-color: white;position: relative;}#sk-container-id-7 div.sk-item::before, #sk-container-id-7 div.sk-parallel-item::before {content: \"\";position: absolute;border-left: 1px solid gray;box-sizing: border-box;top: 0;bottom: 0;left: 50%;z-index: -1;}#sk-container-id-7 div.sk-parallel-item {display: flex;flex-direction: column;z-index: 1;position: relative;background-color: white;}#sk-container-id-7 div.sk-parallel-item:first-child::after {align-self: flex-end;width: 50%;}#sk-container-id-7 div.sk-parallel-item:last-child::after {align-self: flex-start;width: 50%;}#sk-container-id-7 div.sk-parallel-item:only-child::after {width: 0;}#sk-container-id-7 div.sk-dashed-wrapped {border: 1px dashed gray;margin: 0 0.4em 0.5em 0.4em;box-sizing: border-box;padding-bottom: 0.4em;background-color: white;}#sk-container-id-7 div.sk-label label {font-family: monospace;font-weight: bold;display: inline-block;line-height: 1.2em;}#sk-container-id-7 div.sk-label-container {text-align: center;}#sk-container-id-7 div.sk-container {/* jupyter's `normalize.less` sets `[hidden] { display: none; }` but bootstrap.min.css set `[hidden] { display: none !important; }` so we also need the `!important` here to be able to override the default hidden behavior on the sphinx rendered scikit-learn.org. See: https://github.com/scikit-learn/scikit-learn/issues/21755 */display: inline-block !important;position: relative;}#sk-container-id-7 div.sk-text-repr-fallback {display: none;}</style><div id=\"sk-container-id-7\" class=\"sk-top-container\"><div class=\"sk-text-repr-fallback\"><pre>LogisticRegression(random_state=123)</pre><b>In a Jupyter environment, please rerun this cell to show the HTML representation or trust the notebook. <br />On GitHub, the HTML representation is unable to render, please try loading this page with nbviewer.org.</b></div><div class=\"sk-container\" hidden><div class=\"sk-item\"><div class=\"sk-estimator sk-toggleable\"><input class=\"sk-toggleable__control sk-hidden--visually\" id=\"sk-estimator-id-7\" type=\"checkbox\" checked><label for=\"sk-estimator-id-7\" class=\"sk-toggleable__label sk-toggleable__label-arrow\">LogisticRegression</label><div class=\"sk-toggleable__content\"><pre>LogisticRegression(random_state=123)</pre></div></div></div></div></div>"
      ],
      "text/plain": [
       "LogisticRegression(random_state=123)"
      ]
     },
     "execution_count": 104,
     "metadata": {},
     "output_type": "execute_result"
    }
   ],
   "source": [
    "#Basic Ridge regularisation\n",
    "ridge = LogisticRegression(penalty='l2', solver='lbfgs', C=1.0, random_state=123) \n",
    "ridge.fit(x_train_scaled, y_train.Satisfaction)"
   ]
  },
  {
   "cell_type": "code",
   "execution_count": 105,
   "id": "e396f37a",
   "metadata": {},
   "outputs": [
    {
     "name": "stdout",
     "output_type": "stream",
     "text": [
      "Accuracy: 0.87361411\n",
      "Classification Report:\n",
      "              precision    recall  f1-score   support\n",
      "\n",
      "           0       0.87      0.91      0.89     14662\n",
      "           1       0.87      0.83      0.85     11314\n",
      "\n",
      "    accuracy                           0.87     25976\n",
      "   macro avg       0.87      0.87      0.87     25976\n",
      "weighted avg       0.87      0.87      0.87     25976\n",
      "\n"
     ]
    }
   ],
   "source": [
    "y_pred_ridge = ridge.predict(x_test_scaled)\n",
    "accuracy = accuracy_score(y_test, y_pred)\n",
    "print(f\"Accuracy: {accuracy:.8f}\")\n",
    "print(\"Classification Report:\")\n",
    "print(classification_report(y_test, y_pred))"
   ]
  },
  {
   "cell_type": "code",
   "execution_count": 106,
   "id": "e0dd03aa",
   "metadata": {},
   "outputs": [
    {
     "name": "stdout",
     "output_type": "stream",
     "text": [
      "Tuned Ridge Regularisation Accuracy: 0.87175786\n",
      "\n",
      "Logistic Regression Grid Search Results:\n",
      "Best parameters: [0.00215443]\n",
      "Best cross-validation accuracy: 0.87513685\n"
     ]
    }
   ],
   "source": [
    "#Hyperparameter tuning \n",
    "ridge_alpha= np.logspace(-4, 0, 10)\n",
    "ridge_grid_search = LogisticRegressionCV(Cs=ridge_alpha, random_state=123, penalty='l2', solver='lbfgs', cv=10, scoring='accuracy')\n",
    "ridge_grid_search.fit(x_train_scaled, y_train.Satisfaction)\n",
    "ridge_grid_val_pred = ridge_grid_search.predict(x_val_scaled)\n",
    "\n",
    "print(f\"Tuned Ridge Regularisation Accuracy: {accuracy_score(y_val.Satisfaction, lasso_grid_val_pred):.8f}\")  #also drop in accuracy\n",
    "print(\"\\nLogistic Regression Grid Search Results:\")\n",
    "print(f\"Best parameters: {ridge_grid_search.C_}\") # low value of alpha- L2 isn't beneficial for our model\n",
    "print(f\"Best cross-validation accuracy: {ridge_grid_search.score(x_train_scaled, y_train.Satisfaction):.8f}\")"
   ]
  },
  {
   "cell_type": "code",
   "execution_count": 107,
   "id": "78617086",
   "metadata": {},
   "outputs": [
    {
     "name": "stdout",
     "output_type": "stream",
     "text": [
      "{'fit_time': array([2.02802253, 1.50087166, 1.73031712, 1.36762071, 2.31392407,\n",
      "       1.70877552, 2.09963822, 2.09455109, 1.0877161 , 1.26038742]), 'score_time': array([0.09164238, 0.09609795, 0.08489966, 0.10144973, 0.07638741,\n",
      "       0.08800745, 0.08559489, 0.09166026, 0.03165078, 0.02272201]), 'test_recall': array([0.83444149, 0.82845745, 0.84242021, 0.82801418, 0.83506983,\n",
      "       0.82664598, 0.83263135, 0.8308579 , 0.83750831, 0.84194192]), 'train_recall': array([0.83382592, 0.83439239, 0.83296389, 0.83387518, 0.83363298,\n",
      "       0.83466739, 0.83375613, 0.83437184, 0.83387927, 0.83326355]), 'test_precision': array([0.8681116 , 0.87316048, 0.86840302, 0.86461467, 0.86757255,\n",
      "       0.86040609, 0.87328528, 0.86558891, 0.86532295, 0.86554239]), 'train_precision': array([0.86700983, 0.86646717, 0.86689052, 0.86746093, 0.86709704,\n",
      "       0.86777283, 0.86635956, 0.8671547 , 0.86699785, 0.86684602]), 'test_brier': array([-0.09727761, -0.09766586, -0.09572402, -0.1002718 , -0.09626197,\n",
      "       -0.10162992, -0.0959574 , -0.10017531, -0.09636041, -0.09526225]), 'train_brier': array([-0.09765973, -0.09749854, -0.09792086, -0.0972178 , -0.0977931 ,\n",
      "       -0.097082  , -0.09781469, -0.0972717 , -0.09779421, -0.09791638]), 'test_roc': array([0.92566379, 0.92222185, 0.92977156, 0.92018099, 0.92669919,\n",
      "       0.91965085, 0.92647879, 0.9224376 , 0.92782169, 0.92923307]), 'train_roc': array([0.92504243, 0.9254909 , 0.92452733, 0.92566093, 0.92491248,\n",
      "       0.92574143, 0.92494205, 0.92543165, 0.92481176, 0.92466004])}\n"
     ]
    },
    {
     "data": {
      "text/html": [
       "<div>\n",
       "<style scoped>\n",
       "    .dataframe tbody tr th:only-of-type {\n",
       "        vertical-align: middle;\n",
       "    }\n",
       "\n",
       "    .dataframe tbody tr th {\n",
       "        vertical-align: top;\n",
       "    }\n",
       "\n",
       "    .dataframe thead th {\n",
       "        text-align: right;\n",
       "    }\n",
       "</style>\n",
       "<table border=\"1\" class=\"dataframe\">\n",
       "  <thead>\n",
       "    <tr style=\"text-align: right;\">\n",
       "      <th></th>\n",
       "      <th>fit_time</th>\n",
       "      <th>score_time</th>\n",
       "      <th>test_recall</th>\n",
       "      <th>train_recall</th>\n",
       "      <th>test_precision</th>\n",
       "      <th>train_precision</th>\n",
       "      <th>test_brier</th>\n",
       "      <th>train_brier</th>\n",
       "      <th>test_roc</th>\n",
       "      <th>train_roc</th>\n",
       "    </tr>\n",
       "  </thead>\n",
       "  <tbody>\n",
       "    <tr>\n",
       "      <th>0</th>\n",
       "      <td>2.028023</td>\n",
       "      <td>0.091642</td>\n",
       "      <td>0.834441</td>\n",
       "      <td>0.833826</td>\n",
       "      <td>0.868112</td>\n",
       "      <td>0.867010</td>\n",
       "      <td>-0.097278</td>\n",
       "      <td>-0.097660</td>\n",
       "      <td>0.925664</td>\n",
       "      <td>0.925042</td>\n",
       "    </tr>\n",
       "    <tr>\n",
       "      <th>1</th>\n",
       "      <td>1.500872</td>\n",
       "      <td>0.096098</td>\n",
       "      <td>0.828457</td>\n",
       "      <td>0.834392</td>\n",
       "      <td>0.873160</td>\n",
       "      <td>0.866467</td>\n",
       "      <td>-0.097666</td>\n",
       "      <td>-0.097499</td>\n",
       "      <td>0.922222</td>\n",
       "      <td>0.925491</td>\n",
       "    </tr>\n",
       "    <tr>\n",
       "      <th>2</th>\n",
       "      <td>1.730317</td>\n",
       "      <td>0.084900</td>\n",
       "      <td>0.842420</td>\n",
       "      <td>0.832964</td>\n",
       "      <td>0.868403</td>\n",
       "      <td>0.866891</td>\n",
       "      <td>-0.095724</td>\n",
       "      <td>-0.097921</td>\n",
       "      <td>0.929772</td>\n",
       "      <td>0.924527</td>\n",
       "    </tr>\n",
       "    <tr>\n",
       "      <th>3</th>\n",
       "      <td>1.367621</td>\n",
       "      <td>0.101450</td>\n",
       "      <td>0.828014</td>\n",
       "      <td>0.833875</td>\n",
       "      <td>0.864615</td>\n",
       "      <td>0.867461</td>\n",
       "      <td>-0.100272</td>\n",
       "      <td>-0.097218</td>\n",
       "      <td>0.920181</td>\n",
       "      <td>0.925661</td>\n",
       "    </tr>\n",
       "    <tr>\n",
       "      <th>4</th>\n",
       "      <td>2.313924</td>\n",
       "      <td>0.076387</td>\n",
       "      <td>0.835070</td>\n",
       "      <td>0.833633</td>\n",
       "      <td>0.867573</td>\n",
       "      <td>0.867097</td>\n",
       "      <td>-0.096262</td>\n",
       "      <td>-0.097793</td>\n",
       "      <td>0.926699</td>\n",
       "      <td>0.924912</td>\n",
       "    </tr>\n",
       "    <tr>\n",
       "      <th>5</th>\n",
       "      <td>1.708776</td>\n",
       "      <td>0.088007</td>\n",
       "      <td>0.826646</td>\n",
       "      <td>0.834667</td>\n",
       "      <td>0.860406</td>\n",
       "      <td>0.867773</td>\n",
       "      <td>-0.101630</td>\n",
       "      <td>-0.097082</td>\n",
       "      <td>0.919651</td>\n",
       "      <td>0.925741</td>\n",
       "    </tr>\n",
       "    <tr>\n",
       "      <th>6</th>\n",
       "      <td>2.099638</td>\n",
       "      <td>0.085595</td>\n",
       "      <td>0.832631</td>\n",
       "      <td>0.833756</td>\n",
       "      <td>0.873285</td>\n",
       "      <td>0.866360</td>\n",
       "      <td>-0.095957</td>\n",
       "      <td>-0.097815</td>\n",
       "      <td>0.926479</td>\n",
       "      <td>0.924942</td>\n",
       "    </tr>\n",
       "    <tr>\n",
       "      <th>7</th>\n",
       "      <td>2.094551</td>\n",
       "      <td>0.091660</td>\n",
       "      <td>0.830858</td>\n",
       "      <td>0.834372</td>\n",
       "      <td>0.865589</td>\n",
       "      <td>0.867155</td>\n",
       "      <td>-0.100175</td>\n",
       "      <td>-0.097272</td>\n",
       "      <td>0.922438</td>\n",
       "      <td>0.925432</td>\n",
       "    </tr>\n",
       "    <tr>\n",
       "      <th>8</th>\n",
       "      <td>1.087716</td>\n",
       "      <td>0.031651</td>\n",
       "      <td>0.837508</td>\n",
       "      <td>0.833879</td>\n",
       "      <td>0.865323</td>\n",
       "      <td>0.866998</td>\n",
       "      <td>-0.096360</td>\n",
       "      <td>-0.097794</td>\n",
       "      <td>0.927822</td>\n",
       "      <td>0.924812</td>\n",
       "    </tr>\n",
       "    <tr>\n",
       "      <th>9</th>\n",
       "      <td>1.260387</td>\n",
       "      <td>0.022722</td>\n",
       "      <td>0.841942</td>\n",
       "      <td>0.833264</td>\n",
       "      <td>0.865542</td>\n",
       "      <td>0.866846</td>\n",
       "      <td>-0.095262</td>\n",
       "      <td>-0.097916</td>\n",
       "      <td>0.929233</td>\n",
       "      <td>0.924660</td>\n",
       "    </tr>\n",
       "  </tbody>\n",
       "</table>\n",
       "</div>"
      ],
      "text/plain": [
       "   fit_time  score_time  test_recall  train_recall  test_precision  \\\n",
       "0  2.028023    0.091642     0.834441      0.833826        0.868112   \n",
       "1  1.500872    0.096098     0.828457      0.834392        0.873160   \n",
       "2  1.730317    0.084900     0.842420      0.832964        0.868403   \n",
       "3  1.367621    0.101450     0.828014      0.833875        0.864615   \n",
       "4  2.313924    0.076387     0.835070      0.833633        0.867573   \n",
       "5  1.708776    0.088007     0.826646      0.834667        0.860406   \n",
       "6  2.099638    0.085595     0.832631      0.833756        0.873285   \n",
       "7  2.094551    0.091660     0.830858      0.834372        0.865589   \n",
       "8  1.087716    0.031651     0.837508      0.833879        0.865323   \n",
       "9  1.260387    0.022722     0.841942      0.833264        0.865542   \n",
       "\n",
       "   train_precision  test_brier  train_brier  test_roc  train_roc  \n",
       "0         0.867010   -0.097278    -0.097660  0.925664   0.925042  \n",
       "1         0.866467   -0.097666    -0.097499  0.922222   0.925491  \n",
       "2         0.866891   -0.095724    -0.097921  0.929772   0.924527  \n",
       "3         0.867461   -0.100272    -0.097218  0.920181   0.925661  \n",
       "4         0.867097   -0.096262    -0.097793  0.926699   0.924912  \n",
       "5         0.867773   -0.101630    -0.097082  0.919651   0.925741  \n",
       "6         0.866360   -0.095957    -0.097815  0.926479   0.924942  \n",
       "7         0.867155   -0.100175    -0.097272  0.922438   0.925432  \n",
       "8         0.866998   -0.096360    -0.097794  0.927822   0.924812  \n",
       "9         0.866846   -0.095262    -0.097916  0.929233   0.924660  "
      ]
     },
     "metadata": {},
     "output_type": "display_data"
    }
   ],
   "source": [
    "#Cross-validation\n",
    "scoring = {'recall': 'recall',\n",
    "           'precision': 'precision',\n",
    "           'brier': 'neg_brier_score',\n",
    "           'roc': 'roc_auc'\n",
    "          }\n",
    "scores = cross_validate(estimator=ridge,\n",
    "                         X=df_train[features],\n",
    "                         y=df_train[[\"satisfaction\"]],\n",
    "                         scoring=scoring,\n",
    "                         cv=10,\n",
    "                         n_jobs=-1,\n",
    "                         return_train_score=True)\n",
    "sorted(scores.keys())\n",
    "print(scores)\n",
    "display(pd.DataFrame(scores))"
   ]
  },
  {
   "cell_type": "code",
   "execution_count": 108,
   "id": "c09b7d47",
   "metadata": {},
   "outputs": [
    {
     "name": "stdout",
     "output_type": "stream",
     "text": [
      "avg Train Precision: 0.8670056458749235 avg Val Precision 0.8672007936723072\n"
     ]
    }
   ],
   "source": [
    "print(\n",
    "    \"avg Train Precision:\", np.mean(pd.DataFrame(scores).train_precision), \"avg Val Precision\", np.mean(pd.DataFrame(scores).test_precision)\n",
    ") "
   ]
  },
  {
   "cell_type": "markdown",
   "id": "f972ea2c",
   "metadata": {},
   "source": [
    "3) Elastic Net"
   ]
  },
  {
   "cell_type": "code",
   "execution_count": 109,
   "id": "ca1cd69e",
   "metadata": {},
   "outputs": [
    {
     "data": {
      "text/html": [
       "<style>#sk-container-id-8 {color: black;background-color: white;}#sk-container-id-8 pre{padding: 0;}#sk-container-id-8 div.sk-toggleable {background-color: white;}#sk-container-id-8 label.sk-toggleable__label {cursor: pointer;display: block;width: 100%;margin-bottom: 0;padding: 0.3em;box-sizing: border-box;text-align: center;}#sk-container-id-8 label.sk-toggleable__label-arrow:before {content: \"▸\";float: left;margin-right: 0.25em;color: #696969;}#sk-container-id-8 label.sk-toggleable__label-arrow:hover:before {color: black;}#sk-container-id-8 div.sk-estimator:hover label.sk-toggleable__label-arrow:before {color: black;}#sk-container-id-8 div.sk-toggleable__content {max-height: 0;max-width: 0;overflow: hidden;text-align: left;background-color: #f0f8ff;}#sk-container-id-8 div.sk-toggleable__content pre {margin: 0.2em;color: black;border-radius: 0.25em;background-color: #f0f8ff;}#sk-container-id-8 input.sk-toggleable__control:checked~div.sk-toggleable__content {max-height: 200px;max-width: 100%;overflow: auto;}#sk-container-id-8 input.sk-toggleable__control:checked~label.sk-toggleable__label-arrow:before {content: \"▾\";}#sk-container-id-8 div.sk-estimator input.sk-toggleable__control:checked~label.sk-toggleable__label {background-color: #d4ebff;}#sk-container-id-8 div.sk-label input.sk-toggleable__control:checked~label.sk-toggleable__label {background-color: #d4ebff;}#sk-container-id-8 input.sk-hidden--visually {border: 0;clip: rect(1px 1px 1px 1px);clip: rect(1px, 1px, 1px, 1px);height: 1px;margin: -1px;overflow: hidden;padding: 0;position: absolute;width: 1px;}#sk-container-id-8 div.sk-estimator {font-family: monospace;background-color: #f0f8ff;border: 1px dotted black;border-radius: 0.25em;box-sizing: border-box;margin-bottom: 0.5em;}#sk-container-id-8 div.sk-estimator:hover {background-color: #d4ebff;}#sk-container-id-8 div.sk-parallel-item::after {content: \"\";width: 100%;border-bottom: 1px solid gray;flex-grow: 1;}#sk-container-id-8 div.sk-label:hover label.sk-toggleable__label {background-color: #d4ebff;}#sk-container-id-8 div.sk-serial::before {content: \"\";position: absolute;border-left: 1px solid gray;box-sizing: border-box;top: 0;bottom: 0;left: 50%;z-index: 0;}#sk-container-id-8 div.sk-serial {display: flex;flex-direction: column;align-items: center;background-color: white;padding-right: 0.2em;padding-left: 0.2em;position: relative;}#sk-container-id-8 div.sk-item {position: relative;z-index: 1;}#sk-container-id-8 div.sk-parallel {display: flex;align-items: stretch;justify-content: center;background-color: white;position: relative;}#sk-container-id-8 div.sk-item::before, #sk-container-id-8 div.sk-parallel-item::before {content: \"\";position: absolute;border-left: 1px solid gray;box-sizing: border-box;top: 0;bottom: 0;left: 50%;z-index: -1;}#sk-container-id-8 div.sk-parallel-item {display: flex;flex-direction: column;z-index: 1;position: relative;background-color: white;}#sk-container-id-8 div.sk-parallel-item:first-child::after {align-self: flex-end;width: 50%;}#sk-container-id-8 div.sk-parallel-item:last-child::after {align-self: flex-start;width: 50%;}#sk-container-id-8 div.sk-parallel-item:only-child::after {width: 0;}#sk-container-id-8 div.sk-dashed-wrapped {border: 1px dashed gray;margin: 0 0.4em 0.5em 0.4em;box-sizing: border-box;padding-bottom: 0.4em;background-color: white;}#sk-container-id-8 div.sk-label label {font-family: monospace;font-weight: bold;display: inline-block;line-height: 1.2em;}#sk-container-id-8 div.sk-label-container {text-align: center;}#sk-container-id-8 div.sk-container {/* jupyter's `normalize.less` sets `[hidden] { display: none; }` but bootstrap.min.css set `[hidden] { display: none !important; }` so we also need the `!important` here to be able to override the default hidden behavior on the sphinx rendered scikit-learn.org. See: https://github.com/scikit-learn/scikit-learn/issues/21755 */display: inline-block !important;position: relative;}#sk-container-id-8 div.sk-text-repr-fallback {display: none;}</style><div id=\"sk-container-id-8\" class=\"sk-top-container\"><div class=\"sk-text-repr-fallback\"><pre>LogisticRegressionCV(Cs=[0.1, 0.5, 1], l1_ratios=[0.1, 0.2, 0.5],\n",
       "                     penalty=&#x27;elasticnet&#x27;, random_state=123, solver=&#x27;saga&#x27;)</pre><b>In a Jupyter environment, please rerun this cell to show the HTML representation or trust the notebook. <br />On GitHub, the HTML representation is unable to render, please try loading this page with nbviewer.org.</b></div><div class=\"sk-container\" hidden><div class=\"sk-item\"><div class=\"sk-estimator sk-toggleable\"><input class=\"sk-toggleable__control sk-hidden--visually\" id=\"sk-estimator-id-8\" type=\"checkbox\" checked><label for=\"sk-estimator-id-8\" class=\"sk-toggleable__label sk-toggleable__label-arrow\">LogisticRegressionCV</label><div class=\"sk-toggleable__content\"><pre>LogisticRegressionCV(Cs=[0.1, 0.5, 1], l1_ratios=[0.1, 0.2, 0.5],\n",
       "                     penalty=&#x27;elasticnet&#x27;, random_state=123, solver=&#x27;saga&#x27;)</pre></div></div></div></div></div>"
      ],
      "text/plain": [
       "LogisticRegressionCV(Cs=[0.1, 0.5, 1], l1_ratios=[0.1, 0.2, 0.5],\n",
       "                     penalty='elasticnet', random_state=123, solver='saga')"
      ]
     },
     "execution_count": 109,
     "metadata": {},
     "output_type": "execute_result"
    }
   ],
   "source": [
    "#Basic Elastic Net regularisation\n",
    "elasticnet = LogisticRegressionCV(penalty='elasticnet', solver='saga', l1_ratios=[0.1,0.2,0.5], Cs=[0.1,0.5,1], random_state=123) \n",
    "elasticnet.fit(x_train_scaled, y_train.Satisfaction)"
   ]
  },
  {
   "cell_type": "code",
   "execution_count": 110,
   "id": "c44f6f79",
   "metadata": {},
   "outputs": [
    {
     "name": "stdout",
     "output_type": "stream",
     "text": [
      "Accuracy: 0.87361411\n",
      "Classification Report:\n",
      "              precision    recall  f1-score   support\n",
      "\n",
      "           0       0.87      0.91      0.89     14662\n",
      "           1       0.87      0.83      0.85     11314\n",
      "\n",
      "    accuracy                           0.87     25976\n",
      "   macro avg       0.87      0.87      0.87     25976\n",
      "weighted avg       0.87      0.87      0.87     25976\n",
      "\n"
     ]
    }
   ],
   "source": [
    "y_pred_elasticnet = elasticnet.predict(x_test_scaled)\n",
    "accuracy = accuracy_score(y_test, y_pred)\n",
    "print(f\"Accuracy: {accuracy:.8f}\")\n",
    "print(\"Classification Report:\")\n",
    "print(classification_report(y_test, y_pred))"
   ]
  },
  {
   "cell_type": "code",
   "execution_count": 111,
   "id": "1af74d20",
   "metadata": {},
   "outputs": [
    {
     "name": "stdout",
     "output_type": "stream",
     "text": [
      "Tuned Elastic Net Regularisation Accuracy: 0.87233531\n",
      "\n",
      "Logistic Regression Grid Search Results:\n",
      "Best C value (inverse regularization strength):  [0.00215443]\n",
      "Best l1_ratio (mix of L1 and L2 regularization):  [0.75]\n",
      "Best cross-validation accuracy: 0.87534136\n"
     ]
    }
   ],
   "source": [
    "#Hyperparameter tuning \n",
    "elasticnet_alpha= np.logspace(-4, 0, 10)\n",
    "elasticnet_l1_ratio= [0.1, 0.25, 0.5, 0.75, 0.9]\n",
    "elasticnet_grid_search = LogisticRegressionCV(Cs=elasticnet_alpha, random_state=123, penalty='elasticnet', l1_ratios= elasticnet_l1_ratio, solver='saga', cv=10, scoring='accuracy')\n",
    "elasticnet_grid_search.fit(x_train_scaled, y_train.Satisfaction)\n",
    "elasticnet_grid_val_pred = elasticnet_grid_search.predict(x_val_scaled)\n",
    "\n",
    "print(f\"Tuned Elastic Net Regularisation Accuracy: {accuracy_score(y_val.Satisfaction, elasticnet_grid_val_pred):.8f}\") \n",
    "print(\"\\nLogistic Regression Grid Search Results:\")\n",
    "print(\"Best C value (inverse regularization strength): \", elasticnet_grid_search.C_)\n",
    "print(\"Best l1_ratio (mix of L1 and L2 regularization): \", elasticnet_grid_search.l1_ratio_)\n",
    "print(f\"Best cross-validation accuracy: {elasticnet_grid_search.score(x_train_scaled, y_train.Satisfaction):.8f}\")"
   ]
  },
  {
   "cell_type": "code",
   "execution_count": 112,
   "id": "0d219097",
   "metadata": {},
   "outputs": [
    {
     "name": "stdout",
     "output_type": "stream",
     "text": [
      "{'fit_time': array([57.57196569, 52.44554496, 53.08691597, 55.58774376, 57.39397001,\n",
      "       59.03281546, 58.33621955, 53.50697422, 26.97675776, 25.8885963 ]), 'score_time': array([0.06313467, 0.07774115, 0.1230731 , 0.09897494, 0.05186367,\n",
      "       0.04059076, 0.0517292 , 0.06784201, 0.02889872, 0.05504799]), 'test_recall': array([0.83444149, 0.82845745, 0.84242021, 0.82823582, 0.83506983,\n",
      "       0.82664598, 0.83263135, 0.8308579 , 0.83750831, 0.84194192]), 'train_recall': array([0.83380129, 0.83439239, 0.83296389, 0.83392444, 0.83360835,\n",
      "       0.83464276, 0.83387927, 0.83434722, 0.83385464, 0.83341132]), 'test_precision': array([0.86831181, 0.87336449, 0.86840302, 0.86424607, 0.8677724 ,\n",
      "       0.86060466, 0.87328528, 0.86558891, 0.86532295, 0.86455725]), 'train_precision': array([0.86707305, 0.86644501, 0.86689052, 0.86777897, 0.86716028,\n",
      "       0.86774722, 0.86635449, 0.8671735 , 0.86701665, 0.86673326]), 'test_brier': array([-0.09727274, -0.09766555, -0.09572105, -0.10029927, -0.09625904,\n",
      "       -0.10162919, -0.09596073, -0.10017318, -0.09635789, -0.09529085]), 'train_brier': array([-0.09765477, -0.0974995 , -0.09791749, -0.09723901, -0.09779013,\n",
      "       -0.09708238, -0.09781687, -0.09726963, -0.09779171, -0.09794057]), 'test_roc': array([0.92566314, 0.92222388, 0.92977137, 0.92018321, 0.92670039,\n",
      "       0.91964885, 0.92647275, 0.92243643, 0.92782184, 0.92923556]), 'train_roc': array([0.92504326, 0.92549067, 0.9245278 , 0.92566293, 0.92491242,\n",
      "       0.92573896, 0.92493938, 0.92543191, 0.92481109, 0.92466363])}\n"
     ]
    },
    {
     "data": {
      "text/html": [
       "<div>\n",
       "<style scoped>\n",
       "    .dataframe tbody tr th:only-of-type {\n",
       "        vertical-align: middle;\n",
       "    }\n",
       "\n",
       "    .dataframe tbody tr th {\n",
       "        vertical-align: top;\n",
       "    }\n",
       "\n",
       "    .dataframe thead th {\n",
       "        text-align: right;\n",
       "    }\n",
       "</style>\n",
       "<table border=\"1\" class=\"dataframe\">\n",
       "  <thead>\n",
       "    <tr style=\"text-align: right;\">\n",
       "      <th></th>\n",
       "      <th>fit_time</th>\n",
       "      <th>score_time</th>\n",
       "      <th>test_recall</th>\n",
       "      <th>train_recall</th>\n",
       "      <th>test_precision</th>\n",
       "      <th>train_precision</th>\n",
       "      <th>test_brier</th>\n",
       "      <th>train_brier</th>\n",
       "      <th>test_roc</th>\n",
       "      <th>train_roc</th>\n",
       "    </tr>\n",
       "  </thead>\n",
       "  <tbody>\n",
       "    <tr>\n",
       "      <th>0</th>\n",
       "      <td>57.571966</td>\n",
       "      <td>0.063135</td>\n",
       "      <td>0.834441</td>\n",
       "      <td>0.833801</td>\n",
       "      <td>0.868312</td>\n",
       "      <td>0.867073</td>\n",
       "      <td>-0.097273</td>\n",
       "      <td>-0.097655</td>\n",
       "      <td>0.925663</td>\n",
       "      <td>0.925043</td>\n",
       "    </tr>\n",
       "    <tr>\n",
       "      <th>1</th>\n",
       "      <td>52.445545</td>\n",
       "      <td>0.077741</td>\n",
       "      <td>0.828457</td>\n",
       "      <td>0.834392</td>\n",
       "      <td>0.873364</td>\n",
       "      <td>0.866445</td>\n",
       "      <td>-0.097666</td>\n",
       "      <td>-0.097500</td>\n",
       "      <td>0.922224</td>\n",
       "      <td>0.925491</td>\n",
       "    </tr>\n",
       "    <tr>\n",
       "      <th>2</th>\n",
       "      <td>53.086916</td>\n",
       "      <td>0.123073</td>\n",
       "      <td>0.842420</td>\n",
       "      <td>0.832964</td>\n",
       "      <td>0.868403</td>\n",
       "      <td>0.866891</td>\n",
       "      <td>-0.095721</td>\n",
       "      <td>-0.097917</td>\n",
       "      <td>0.929771</td>\n",
       "      <td>0.924528</td>\n",
       "    </tr>\n",
       "    <tr>\n",
       "      <th>3</th>\n",
       "      <td>55.587744</td>\n",
       "      <td>0.098975</td>\n",
       "      <td>0.828236</td>\n",
       "      <td>0.833924</td>\n",
       "      <td>0.864246</td>\n",
       "      <td>0.867779</td>\n",
       "      <td>-0.100299</td>\n",
       "      <td>-0.097239</td>\n",
       "      <td>0.920183</td>\n",
       "      <td>0.925663</td>\n",
       "    </tr>\n",
       "    <tr>\n",
       "      <th>4</th>\n",
       "      <td>57.393970</td>\n",
       "      <td>0.051864</td>\n",
       "      <td>0.835070</td>\n",
       "      <td>0.833608</td>\n",
       "      <td>0.867772</td>\n",
       "      <td>0.867160</td>\n",
       "      <td>-0.096259</td>\n",
       "      <td>-0.097790</td>\n",
       "      <td>0.926700</td>\n",
       "      <td>0.924912</td>\n",
       "    </tr>\n",
       "    <tr>\n",
       "      <th>5</th>\n",
       "      <td>59.032815</td>\n",
       "      <td>0.040591</td>\n",
       "      <td>0.826646</td>\n",
       "      <td>0.834643</td>\n",
       "      <td>0.860605</td>\n",
       "      <td>0.867747</td>\n",
       "      <td>-0.101629</td>\n",
       "      <td>-0.097082</td>\n",
       "      <td>0.919649</td>\n",
       "      <td>0.925739</td>\n",
       "    </tr>\n",
       "    <tr>\n",
       "      <th>6</th>\n",
       "      <td>58.336220</td>\n",
       "      <td>0.051729</td>\n",
       "      <td>0.832631</td>\n",
       "      <td>0.833879</td>\n",
       "      <td>0.873285</td>\n",
       "      <td>0.866354</td>\n",
       "      <td>-0.095961</td>\n",
       "      <td>-0.097817</td>\n",
       "      <td>0.926473</td>\n",
       "      <td>0.924939</td>\n",
       "    </tr>\n",
       "    <tr>\n",
       "      <th>7</th>\n",
       "      <td>53.506974</td>\n",
       "      <td>0.067842</td>\n",
       "      <td>0.830858</td>\n",
       "      <td>0.834347</td>\n",
       "      <td>0.865589</td>\n",
       "      <td>0.867174</td>\n",
       "      <td>-0.100173</td>\n",
       "      <td>-0.097270</td>\n",
       "      <td>0.922436</td>\n",
       "      <td>0.925432</td>\n",
       "    </tr>\n",
       "    <tr>\n",
       "      <th>8</th>\n",
       "      <td>26.976758</td>\n",
       "      <td>0.028899</td>\n",
       "      <td>0.837508</td>\n",
       "      <td>0.833855</td>\n",
       "      <td>0.865323</td>\n",
       "      <td>0.867017</td>\n",
       "      <td>-0.096358</td>\n",
       "      <td>-0.097792</td>\n",
       "      <td>0.927822</td>\n",
       "      <td>0.924811</td>\n",
       "    </tr>\n",
       "    <tr>\n",
       "      <th>9</th>\n",
       "      <td>25.888596</td>\n",
       "      <td>0.055048</td>\n",
       "      <td>0.841942</td>\n",
       "      <td>0.833411</td>\n",
       "      <td>0.864557</td>\n",
       "      <td>0.866733</td>\n",
       "      <td>-0.095291</td>\n",
       "      <td>-0.097941</td>\n",
       "      <td>0.929236</td>\n",
       "      <td>0.924664</td>\n",
       "    </tr>\n",
       "  </tbody>\n",
       "</table>\n",
       "</div>"
      ],
      "text/plain": [
       "    fit_time  score_time  test_recall  train_recall  test_precision  \\\n",
       "0  57.571966    0.063135     0.834441      0.833801        0.868312   \n",
       "1  52.445545    0.077741     0.828457      0.834392        0.873364   \n",
       "2  53.086916    0.123073     0.842420      0.832964        0.868403   \n",
       "3  55.587744    0.098975     0.828236      0.833924        0.864246   \n",
       "4  57.393970    0.051864     0.835070      0.833608        0.867772   \n",
       "5  59.032815    0.040591     0.826646      0.834643        0.860605   \n",
       "6  58.336220    0.051729     0.832631      0.833879        0.873285   \n",
       "7  53.506974    0.067842     0.830858      0.834347        0.865589   \n",
       "8  26.976758    0.028899     0.837508      0.833855        0.865323   \n",
       "9  25.888596    0.055048     0.841942      0.833411        0.864557   \n",
       "\n",
       "   train_precision  test_brier  train_brier  test_roc  train_roc  \n",
       "0         0.867073   -0.097273    -0.097655  0.925663   0.925043  \n",
       "1         0.866445   -0.097666    -0.097500  0.922224   0.925491  \n",
       "2         0.866891   -0.095721    -0.097917  0.929771   0.924528  \n",
       "3         0.867779   -0.100299    -0.097239  0.920183   0.925663  \n",
       "4         0.867160   -0.096259    -0.097790  0.926700   0.924912  \n",
       "5         0.867747   -0.101629    -0.097082  0.919649   0.925739  \n",
       "6         0.866354   -0.095961    -0.097817  0.926473   0.924939  \n",
       "7         0.867174   -0.100173    -0.097270  0.922436   0.925432  \n",
       "8         0.867017   -0.096358    -0.097792  0.927822   0.924811  \n",
       "9         0.866733   -0.095291    -0.097941  0.929236   0.924664  "
      ]
     },
     "metadata": {},
     "output_type": "display_data"
    }
   ],
   "source": [
    "#Cross-validation\n",
    "scoring = {'recall': 'recall',\n",
    "           'precision': 'precision',\n",
    "           'brier': 'neg_brier_score',\n",
    "           'roc': 'roc_auc'\n",
    "          }\n",
    "scores = cross_validate(estimator=elasticnet,\n",
    "                         X=df_train[features],\n",
    "                         y=df_train[[\"satisfaction\"]],\n",
    "                         scoring=scoring,\n",
    "                         cv=10,\n",
    "                         n_jobs=-1,\n",
    "                         return_train_score=True)\n",
    "sorted(scores.keys())\n",
    "print(scores)\n",
    "display(pd.DataFrame(scores)) "
   ]
  },
  {
   "cell_type": "code",
   "execution_count": 113,
   "id": "3b4ddbcd",
   "metadata": {},
   "outputs": [
    {
     "name": "stdout",
     "output_type": "stream",
     "text": [
      "avg Train Precision: 0.8670372959309764 avg Val Precision 0.8671456840169546\n"
     ]
    }
   ],
   "source": [
    "print(\n",
    "    \"avg Train Precision:\", np.mean(pd.DataFrame(scores).train_precision), \"avg Val Precision\", np.mean(pd.DataFrame(scores).test_precision)\n",
    ") "
   ]
  },
  {
   "cell_type": "markdown",
   "id": "5a761089",
   "metadata": {},
   "source": [
    "Final conclusion: the usage of Lasso/Ridge/Elastic Net regularisation leads to decrease in accuracy (with similar levels of Precision), therefore it shouldn't be applied to this model; The best logistic regression was acquired by reducing the amount of variables to 17"
   ]
  },
  {
   "cell_type": "code",
   "execution_count": 114,
   "id": "b444348e",
   "metadata": {},
   "outputs": [],
   "source": [
    "#Datasets for tuned logistic regression\n",
    "x_train_17=pd.DataFrame(x_train[features])\n",
    "x_test_17=pd.DataFrame(x_test[features])\n",
    "x_val_17=pd.DataFrame(x_val[features])"
   ]
  },
  {
   "cell_type": "code",
   "execution_count": 123,
   "id": "fd8b335a",
   "metadata": {},
   "outputs": [],
   "source": [
    "#Saving prepared datasets\n",
    "x_train_17.to_csv(\"output/train_logistic.csv\", index=False)\n",
    "x_test_17.to_csv(\"output/test_logistic.csv\", index=False)\n",
    "x_val_17.to_csv(\"output/validation_logistic.csv\", index=False)"
   ]
  },
  {
   "cell_type": "code",
   "execution_count": 116,
   "id": "5860a065",
   "metadata": {},
   "outputs": [],
   "source": [
    "#Skicit library\n",
    "scaler = StandardScaler(copy=True, with_mean=True, with_std=True)\n",
    "x_train_17_scaled= scaler.fit_transform(x_train_17)\n",
    "x_val_17_scaled=scaler.fit_transform(x_val_17)\n",
    "x_test_17_scaled = scaler.fit_transform(x_test_17)"
   ]
  },
  {
   "cell_type": "code",
   "execution_count": 122,
   "id": "a9a7c718",
   "metadata": {},
   "outputs": [
    {
     "data": {
      "image/png": "[encoded data removed]",
      "text/plain": [
       "<Figure size 800x600 with 1 Axes>"
      ]
     },
     "metadata": {},
     "output_type": "display_data"
    }
   ],
   "source": [
    "#Let's analyse the ROC curve for the logistic regression with 17 parameters\n",
    "y_proba = lr.predict_proba(x_test_17_scaled)[:, 1]\n",
    "fpr, tpr, thresholds = roc_curve(y_test.Satisfaction, y_proba)\n",
    "roc_auc = auc(fpr, tpr)\n",
    "plt.figure(figsize=(8, 6))\n",
    "plt.plot(fpr, tpr, color='blue', lw=2, label=f'ROC curve (area = {roc_auc:.2f})')\n",
    "plt.plot([0, 1], [0, 1], color='black', lw=1, linestyle='--')\n",
    "plt.xlabel('FP Rate')\n",
    "plt.ylabel('TP Rate')\n",
    "plt.title('ROC Curve for tuned model')\n",
    "plt.legend(loc=\"lower right\")\n",
    "plt.grid(alpha=0.3)\n",
    "plt.show() #actually lower value of ROC under the curve area"
   ]
  }
 ],
 "metadata": {
  "kernelspec": {
   "display_name": "Python 3 (ipykernel)",
   "language": "python",
   "name": "python3"
  },
  "language_info": {
   "codemirror_mode": {
    "name": "ipython",
    "version": 3
   },
   "file_extension": ".py",
   "mimetype": "text/x-python",
   "name": "python",
   "nbconvert_exporter": "python",
   "pygments_lexer": "ipython3",
   "version": "3.10.9"
  }
 },
 "nbformat": 4,
 "nbformat_minor": 5
}
